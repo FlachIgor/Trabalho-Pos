{
 "cells": [
  {
   "cell_type": "code",
   "execution_count": 1,
   "id": "217c0b42",
   "metadata": {},
   "outputs": [],
   "source": [
    "import pandas as pd\n",
    "import numpy as np\n",
    "import pycaret.classification as pycc\n",
    "from sklearn.metrics import f1_score,log_loss\n",
    "from pycaret.classification import * \n",
    "import requests"
   ]
  },
  {
   "cell_type": "markdown",
   "id": "97c531d5",
   "metadata": {},
   "source": [
    "# teste API"
   ]
  },
  {
   "cell_type": "code",
   "execution_count": 21,
   "id": "01981d7c",
   "metadata": {
    "scrolled": true
   },
   "outputs": [
    {
     "data": {
      "text/html": [
       "<pre style=\"white-space:pre;overflow-x:auto;line-height:normal;font-family:Menlo,'DejaVu Sans Mono',consolas,'Courier New',monospace\"><span style=\"color: #7fbfbf; text-decoration-color: #7fbfbf\">[04/15/23 19:57:33] </span><span style=\"color: #000080; text-decoration-color: #000080\">INFO    </span> Loading data from <span style=\"color: #008000; text-decoration-color: #008000\">'primary_data_3PT'</span> <span style=\"font-weight: bold\">(</span>ParquetDataSet<span style=\"font-weight: bold\">)</span><span style=\"color: #808000; text-decoration-color: #808000\">...</span>           <span style=\"color: #7f7f7f; text-decoration-color: #7f7f7f\">data_catalog.py:343</span>\n",
       "</pre>\n"
      ],
      "text/plain": [
       "\u001b[2;36m[04/15/23 19:57:33]\u001b[0m\u001b[2;36m \u001b[0m\u001b[34mINFO    \u001b[0m Loading data from \u001b[32m'primary_data_3PT'\u001b[0m \u001b[1m(\u001b[0mParquetDataSet\u001b[1m)\u001b[0m\u001b[33m...\u001b[0m           \u001b[2mdata_catalog.py\u001b[0m\u001b[2m:\u001b[0m\u001b[2m343\u001b[0m\n"
      ]
     },
     "metadata": {},
     "output_type": "display_data"
    },
    {
     "data": {
      "text/plain": [
       "{'lat': 34.0443,\n",
       " 'lon': -118.2698,\n",
       " 'minutes_remaining': 8.0,\n",
       " 'period': 3.0,\n",
       " 'playoffs': 0.0,\n",
       " 'shot_distance': 0.0,\n",
       " 'shot_made_flag': 1.0}"
      ]
     },
     "execution_count": 21,
     "metadata": {},
     "output_type": "execute_result"
    }
   ],
   "source": [
    "dados = catalog.load('primary_data_3PT').iloc[5].to_dict()\n",
    "dados"
   ]
  },
  {
   "cell_type": "code",
   "execution_count": 22,
   "id": "658c2cb4",
   "metadata": {},
   "outputs": [
    {
     "data": {
      "text/plain": [
       "200"
      ]
     },
     "execution_count": 22,
     "metadata": {},
     "output_type": "execute_result"
    }
   ],
   "source": [
    "url = 'http://127.0.0.1:5001/invocations'\n",
    "\n",
    "data = {\n",
    "    \"dataframe_records\": [\n",
    "{'lat': 34.0443,\n",
    " 'lon': -118.2698,\n",
    " 'minutes_remaining': 8.0,\n",
    " 'period': 3.0,\n",
    " 'playoffs': 0.0,\n",
    " 'shot_distance': 0.0}\n",
    "    ]\n",
    "}\n",
    "\n",
    "results = requests.post(url,json = data)\n",
    "results.status_code"
   ]
  },
  {
   "cell_type": "code",
   "execution_count": 23,
   "id": "8aa7b3ed",
   "metadata": {},
   "outputs": [
    {
     "data": {
      "text/plain": [
       "{'predictions': [1.0]}"
      ]
     },
     "execution_count": 23,
     "metadata": {},
     "output_type": "execute_result"
    }
   ],
   "source": [
    "results.json()"
   ]
  },
  {
   "cell_type": "markdown",
   "id": "a27a7f6f",
   "metadata": {},
   "source": [
    "# testes modelos"
   ]
  },
  {
   "cell_type": "code",
   "execution_count": 2,
   "id": "2423cbdd",
   "metadata": {
    "scrolled": true
   },
   "outputs": [
    {
     "data": {
      "text/html": [
       "<pre style=\"white-space:pre;overflow-x:auto;line-height:normal;font-family:Menlo,'DejaVu Sans Mono',consolas,'Courier New',monospace\"><span style=\"color: #7fbfbf; text-decoration-color: #7fbfbf\">[04/15/23 18:54:39] </span><span style=\"color: #000080; text-decoration-color: #000080\">INFO    </span> Loading data from <span style=\"color: #008000; text-decoration-color: #008000\">'data_train'</span> <span style=\"font-weight: bold\">(</span>ParquetDataSet<span style=\"font-weight: bold\">)</span><span style=\"color: #808000; text-decoration-color: #808000\">...</span>                 <span style=\"color: #7f7f7f; text-decoration-color: #7f7f7f\">data_catalog.py:343</span>\n",
       "</pre>\n"
      ],
      "text/plain": [
       "\u001b[2;36m[04/15/23 18:54:39]\u001b[0m\u001b[2;36m \u001b[0m\u001b[34mINFO    \u001b[0m Loading data from \u001b[32m'data_train'\u001b[0m \u001b[1m(\u001b[0mParquetDataSet\u001b[1m)\u001b[0m\u001b[33m...\u001b[0m                 \u001b[2mdata_catalog.py\u001b[0m\u001b[2m:\u001b[0m\u001b[2m343\u001b[0m\n"
      ]
     },
     "metadata": {},
     "output_type": "display_data"
    }
   ],
   "source": [
    "dados = catalog.load('data_train')"
   ]
  },
  {
   "cell_type": "code",
   "execution_count": 3,
   "id": "0fafacfc",
   "metadata": {},
   "outputs": [
    {
     "data": {
      "text/html": [
       "<style type=\"text/css\">\n",
       "#T_0e3e3_row8_col1 {\n",
       "  background-color: lightgreen;\n",
       "}\n",
       "</style>\n",
       "<table id=\"T_0e3e3\">\n",
       "  <thead>\n",
       "    <tr>\n",
       "      <th class=\"blank level0\" >&nbsp;</th>\n",
       "      <th id=\"T_0e3e3_level0_col0\" class=\"col_heading level0 col0\" >Description</th>\n",
       "      <th id=\"T_0e3e3_level0_col1\" class=\"col_heading level0 col1\" >Value</th>\n",
       "    </tr>\n",
       "  </thead>\n",
       "  <tbody>\n",
       "    <tr>\n",
       "      <th id=\"T_0e3e3_level0_row0\" class=\"row_heading level0 row0\" >0</th>\n",
       "      <td id=\"T_0e3e3_row0_col0\" class=\"data row0 col0\" >Session id</td>\n",
       "      <td id=\"T_0e3e3_row0_col1\" class=\"data row0 col1\" >7116</td>\n",
       "    </tr>\n",
       "    <tr>\n",
       "      <th id=\"T_0e3e3_level0_row1\" class=\"row_heading level0 row1\" >1</th>\n",
       "      <td id=\"T_0e3e3_row1_col0\" class=\"data row1 col0\" >Target</td>\n",
       "      <td id=\"T_0e3e3_row1_col1\" class=\"data row1 col1\" >shot_made_flag</td>\n",
       "    </tr>\n",
       "    <tr>\n",
       "      <th id=\"T_0e3e3_level0_row2\" class=\"row_heading level0 row2\" >2</th>\n",
       "      <td id=\"T_0e3e3_row2_col0\" class=\"data row2 col0\" >Target type</td>\n",
       "      <td id=\"T_0e3e3_row2_col1\" class=\"data row2 col1\" >Binary</td>\n",
       "    </tr>\n",
       "    <tr>\n",
       "      <th id=\"T_0e3e3_level0_row3\" class=\"row_heading level0 row3\" >3</th>\n",
       "      <td id=\"T_0e3e3_row3_col0\" class=\"data row3 col0\" >Original data shape</td>\n",
       "      <td id=\"T_0e3e3_row3_col1\" class=\"data row3 col1\" >(16228, 7)</td>\n",
       "    </tr>\n",
       "    <tr>\n",
       "      <th id=\"T_0e3e3_level0_row4\" class=\"row_heading level0 row4\" >4</th>\n",
       "      <td id=\"T_0e3e3_row4_col0\" class=\"data row4 col0\" >Transformed data shape</td>\n",
       "      <td id=\"T_0e3e3_row4_col1\" class=\"data row4 col1\" >(16228, 7)</td>\n",
       "    </tr>\n",
       "    <tr>\n",
       "      <th id=\"T_0e3e3_level0_row5\" class=\"row_heading level0 row5\" >5</th>\n",
       "      <td id=\"T_0e3e3_row5_col0\" class=\"data row5 col0\" >Transformed train set shape</td>\n",
       "      <td id=\"T_0e3e3_row5_col1\" class=\"data row5 col1\" >(11359, 7)</td>\n",
       "    </tr>\n",
       "    <tr>\n",
       "      <th id=\"T_0e3e3_level0_row6\" class=\"row_heading level0 row6\" >6</th>\n",
       "      <td id=\"T_0e3e3_row6_col0\" class=\"data row6 col0\" >Transformed test set shape</td>\n",
       "      <td id=\"T_0e3e3_row6_col1\" class=\"data row6 col1\" >(4869, 7)</td>\n",
       "    </tr>\n",
       "    <tr>\n",
       "      <th id=\"T_0e3e3_level0_row7\" class=\"row_heading level0 row7\" >7</th>\n",
       "      <td id=\"T_0e3e3_row7_col0\" class=\"data row7 col0\" >Numeric features</td>\n",
       "      <td id=\"T_0e3e3_row7_col1\" class=\"data row7 col1\" >6</td>\n",
       "    </tr>\n",
       "    <tr>\n",
       "      <th id=\"T_0e3e3_level0_row8\" class=\"row_heading level0 row8\" >8</th>\n",
       "      <td id=\"T_0e3e3_row8_col0\" class=\"data row8 col0\" >Preprocess</td>\n",
       "      <td id=\"T_0e3e3_row8_col1\" class=\"data row8 col1\" >True</td>\n",
       "    </tr>\n",
       "    <tr>\n",
       "      <th id=\"T_0e3e3_level0_row9\" class=\"row_heading level0 row9\" >9</th>\n",
       "      <td id=\"T_0e3e3_row9_col0\" class=\"data row9 col0\" >Imputation type</td>\n",
       "      <td id=\"T_0e3e3_row9_col1\" class=\"data row9 col1\" >simple</td>\n",
       "    </tr>\n",
       "    <tr>\n",
       "      <th id=\"T_0e3e3_level0_row10\" class=\"row_heading level0 row10\" >10</th>\n",
       "      <td id=\"T_0e3e3_row10_col0\" class=\"data row10 col0\" >Numeric imputation</td>\n",
       "      <td id=\"T_0e3e3_row10_col1\" class=\"data row10 col1\" >mean</td>\n",
       "    </tr>\n",
       "    <tr>\n",
       "      <th id=\"T_0e3e3_level0_row11\" class=\"row_heading level0 row11\" >11</th>\n",
       "      <td id=\"T_0e3e3_row11_col0\" class=\"data row11 col0\" >Categorical imputation</td>\n",
       "      <td id=\"T_0e3e3_row11_col1\" class=\"data row11 col1\" >mode</td>\n",
       "    </tr>\n",
       "    <tr>\n",
       "      <th id=\"T_0e3e3_level0_row12\" class=\"row_heading level0 row12\" >12</th>\n",
       "      <td id=\"T_0e3e3_row12_col0\" class=\"data row12 col0\" >Fold Generator</td>\n",
       "      <td id=\"T_0e3e3_row12_col1\" class=\"data row12 col1\" >StratifiedKFold</td>\n",
       "    </tr>\n",
       "    <tr>\n",
       "      <th id=\"T_0e3e3_level0_row13\" class=\"row_heading level0 row13\" >13</th>\n",
       "      <td id=\"T_0e3e3_row13_col0\" class=\"data row13 col0\" >Fold Number</td>\n",
       "      <td id=\"T_0e3e3_row13_col1\" class=\"data row13 col1\" >10</td>\n",
       "    </tr>\n",
       "    <tr>\n",
       "      <th id=\"T_0e3e3_level0_row14\" class=\"row_heading level0 row14\" >14</th>\n",
       "      <td id=\"T_0e3e3_row14_col0\" class=\"data row14 col0\" >CPU Jobs</td>\n",
       "      <td id=\"T_0e3e3_row14_col1\" class=\"data row14 col1\" >-1</td>\n",
       "    </tr>\n",
       "    <tr>\n",
       "      <th id=\"T_0e3e3_level0_row15\" class=\"row_heading level0 row15\" >15</th>\n",
       "      <td id=\"T_0e3e3_row15_col0\" class=\"data row15 col0\" >Use GPU</td>\n",
       "      <td id=\"T_0e3e3_row15_col1\" class=\"data row15 col1\" >False</td>\n",
       "    </tr>\n",
       "    <tr>\n",
       "      <th id=\"T_0e3e3_level0_row16\" class=\"row_heading level0 row16\" >16</th>\n",
       "      <td id=\"T_0e3e3_row16_col0\" class=\"data row16 col0\" >Log Experiment</td>\n",
       "      <td id=\"T_0e3e3_row16_col1\" class=\"data row16 col1\" >False</td>\n",
       "    </tr>\n",
       "    <tr>\n",
       "      <th id=\"T_0e3e3_level0_row17\" class=\"row_heading level0 row17\" >17</th>\n",
       "      <td id=\"T_0e3e3_row17_col0\" class=\"data row17 col0\" >Experiment Name</td>\n",
       "      <td id=\"T_0e3e3_row17_col1\" class=\"data row17 col1\" >clf-default-name</td>\n",
       "    </tr>\n",
       "    <tr>\n",
       "      <th id=\"T_0e3e3_level0_row18\" class=\"row_heading level0 row18\" >18</th>\n",
       "      <td id=\"T_0e3e3_row18_col0\" class=\"data row18 col0\" >USI</td>\n",
       "      <td id=\"T_0e3e3_row18_col1\" class=\"data row18 col1\" >1f96</td>\n",
       "    </tr>\n",
       "  </tbody>\n",
       "</table>\n"
      ],
      "text/plain": [
       "<pandas.io.formats.style.Styler at 0x2d4b03d1510>"
      ]
     },
     "metadata": {},
     "output_type": "display_data"
    },
    {
     "data": {
      "text/plain": [
       "Name                                                       Log Loss\n",
       "Display Name                                               Log Loss\n",
       "Score Function            <function log_loss at 0x000002D4AA764700>\n",
       "Scorer               make_scorer(log_loss, greater_is_better=False)\n",
       "Target                                                         pred\n",
       "Args                                                             {}\n",
       "Greater is Better                                             False\n",
       "Multiclass                                                     True\n",
       "Custom                                                         True\n",
       "Name: logloss, dtype: object"
      ]
     },
     "execution_count": 3,
     "metadata": {},
     "output_type": "execute_result"
    }
   ],
   "source": [
    "pycc.setup(dados, target = 'shot_made_flag')\n",
    "add_metric('logloss', 'Log Loss', log_loss, greater_is_better=False)"
   ]
  },
  {
   "cell_type": "code",
   "execution_count": 5,
   "id": "db735aa8",
   "metadata": {},
   "outputs": [
    {
     "data": {
      "text/html": [],
      "text/plain": [
       "<IPython.core.display.HTML object>"
      ]
     },
     "metadata": {},
     "output_type": "display_data"
    },
    {
     "data": {
      "text/html": [
       "<style type=\"text/css\">\n",
       "#T_3768a th {\n",
       "  text-align: left;\n",
       "}\n",
       "#T_3768a_row0_col0, #T_3768a_row0_col2, #T_3768a_row0_col3, #T_3768a_row0_col5, #T_3768a_row0_col8, #T_3768a_row1_col0, #T_3768a_row1_col1, #T_3768a_row1_col2, #T_3768a_row1_col3, #T_3768a_row1_col4, #T_3768a_row1_col5, #T_3768a_row1_col6, #T_3768a_row1_col7, #T_3768a_row1_col8, #T_3768a_row2_col0, #T_3768a_row2_col1, #T_3768a_row2_col2, #T_3768a_row2_col3, #T_3768a_row2_col4, #T_3768a_row2_col5, #T_3768a_row2_col6, #T_3768a_row2_col7, #T_3768a_row2_col8, #T_3768a_row3_col0, #T_3768a_row3_col1, #T_3768a_row3_col2, #T_3768a_row3_col3, #T_3768a_row3_col4, #T_3768a_row3_col5, #T_3768a_row3_col6, #T_3768a_row3_col7, #T_3768a_row3_col8, #T_3768a_row4_col0, #T_3768a_row4_col1, #T_3768a_row4_col2, #T_3768a_row4_col3, #T_3768a_row4_col4, #T_3768a_row4_col5, #T_3768a_row4_col6, #T_3768a_row4_col7, #T_3768a_row4_col8, #T_3768a_row5_col0, #T_3768a_row5_col1, #T_3768a_row5_col2, #T_3768a_row5_col3, #T_3768a_row5_col4, #T_3768a_row5_col5, #T_3768a_row5_col6, #T_3768a_row5_col7, #T_3768a_row5_col8, #T_3768a_row6_col0, #T_3768a_row6_col1, #T_3768a_row6_col3, #T_3768a_row6_col4, #T_3768a_row6_col6, #T_3768a_row6_col7, #T_3768a_row6_col8, #T_3768a_row7_col0, #T_3768a_row7_col1, #T_3768a_row7_col2, #T_3768a_row7_col3, #T_3768a_row7_col4, #T_3768a_row7_col5, #T_3768a_row7_col6, #T_3768a_row7_col7, #T_3768a_row7_col8, #T_3768a_row8_col0, #T_3768a_row8_col1, #T_3768a_row8_col2, #T_3768a_row8_col3, #T_3768a_row8_col4, #T_3768a_row8_col5, #T_3768a_row8_col6, #T_3768a_row8_col7, #T_3768a_row8_col8, #T_3768a_row9_col0, #T_3768a_row9_col1, #T_3768a_row9_col2, #T_3768a_row9_col3, #T_3768a_row9_col4, #T_3768a_row9_col5, #T_3768a_row9_col6, #T_3768a_row9_col7, #T_3768a_row9_col8, #T_3768a_row10_col0, #T_3768a_row10_col1, #T_3768a_row10_col2, #T_3768a_row10_col3, #T_3768a_row10_col4, #T_3768a_row10_col5, #T_3768a_row10_col6, #T_3768a_row10_col7, #T_3768a_row10_col8, #T_3768a_row11_col0, #T_3768a_row11_col1, #T_3768a_row11_col2, #T_3768a_row11_col4, #T_3768a_row11_col5, #T_3768a_row11_col6, #T_3768a_row11_col7, #T_3768a_row11_col8, #T_3768a_row12_col0, #T_3768a_row12_col1, #T_3768a_row12_col2, #T_3768a_row12_col3, #T_3768a_row12_col4, #T_3768a_row12_col5, #T_3768a_row12_col6, #T_3768a_row12_col7, #T_3768a_row12_col8, #T_3768a_row13_col0, #T_3768a_row13_col1, #T_3768a_row13_col2, #T_3768a_row13_col3, #T_3768a_row13_col4, #T_3768a_row13_col5, #T_3768a_row13_col6, #T_3768a_row13_col7 {\n",
       "  text-align: left;\n",
       "}\n",
       "#T_3768a_row0_col1, #T_3768a_row0_col4, #T_3768a_row0_col6, #T_3768a_row0_col7, #T_3768a_row6_col2, #T_3768a_row6_col5, #T_3768a_row11_col3, #T_3768a_row13_col8 {\n",
       "  text-align: left;\n",
       "  background-color: yellow;\n",
       "}\n",
       "#T_3768a_row0_col9, #T_3768a_row1_col9, #T_3768a_row2_col9, #T_3768a_row3_col9, #T_3768a_row4_col9, #T_3768a_row5_col9, #T_3768a_row7_col9, #T_3768a_row8_col9, #T_3768a_row9_col9, #T_3768a_row10_col9, #T_3768a_row11_col9, #T_3768a_row12_col9, #T_3768a_row13_col9 {\n",
       "  text-align: left;\n",
       "  background-color: lightgrey;\n",
       "}\n",
       "#T_3768a_row6_col9 {\n",
       "  text-align: left;\n",
       "  background-color: yellow;\n",
       "  background-color: lightgrey;\n",
       "}\n",
       "</style>\n",
       "<table id=\"T_3768a\">\n",
       "  <thead>\n",
       "    <tr>\n",
       "      <th class=\"blank level0\" >&nbsp;</th>\n",
       "      <th id=\"T_3768a_level0_col0\" class=\"col_heading level0 col0\" >Model</th>\n",
       "      <th id=\"T_3768a_level0_col1\" class=\"col_heading level0 col1\" >Accuracy</th>\n",
       "      <th id=\"T_3768a_level0_col2\" class=\"col_heading level0 col2\" >AUC</th>\n",
       "      <th id=\"T_3768a_level0_col3\" class=\"col_heading level0 col3\" >Recall</th>\n",
       "      <th id=\"T_3768a_level0_col4\" class=\"col_heading level0 col4\" >Prec.</th>\n",
       "      <th id=\"T_3768a_level0_col5\" class=\"col_heading level0 col5\" >F1</th>\n",
       "      <th id=\"T_3768a_level0_col6\" class=\"col_heading level0 col6\" >Kappa</th>\n",
       "      <th id=\"T_3768a_level0_col7\" class=\"col_heading level0 col7\" >MCC</th>\n",
       "      <th id=\"T_3768a_level0_col8\" class=\"col_heading level0 col8\" >Log Loss</th>\n",
       "      <th id=\"T_3768a_level0_col9\" class=\"col_heading level0 col9\" >TT (Sec)</th>\n",
       "    </tr>\n",
       "  </thead>\n",
       "  <tbody>\n",
       "    <tr>\n",
       "      <th id=\"T_3768a_level0_row0\" class=\"row_heading level0 row0\" >ada</th>\n",
       "      <td id=\"T_3768a_row0_col0\" class=\"data row0 col0\" >Ada Boost Classifier</td>\n",
       "      <td id=\"T_3768a_row0_col1\" class=\"data row0 col1\" >0.5929</td>\n",
       "      <td id=\"T_3768a_row0_col2\" class=\"data row0 col2\" >0.5995</td>\n",
       "      <td id=\"T_3768a_row0_col3\" class=\"data row0 col3\" >0.3866</td>\n",
       "      <td id=\"T_3768a_row0_col4\" class=\"data row0 col4\" >0.6182</td>\n",
       "      <td id=\"T_3768a_row0_col5\" class=\"data row0 col5\" >0.4753</td>\n",
       "      <td id=\"T_3768a_row0_col6\" class=\"data row0 col6\" >0.1708</td>\n",
       "      <td id=\"T_3768a_row0_col7\" class=\"data row0 col7\" >0.1836</td>\n",
       "      <td id=\"T_3768a_row0_col8\" class=\"data row0 col8\" >6.4898</td>\n",
       "      <td id=\"T_3768a_row0_col9\" class=\"data row0 col9\" >0.6830</td>\n",
       "    </tr>\n",
       "    <tr>\n",
       "      <th id=\"T_3768a_level0_row1\" class=\"row_heading level0 row1\" >gbc</th>\n",
       "      <td id=\"T_3768a_row1_col0\" class=\"data row1 col0\" >Gradient Boosting Classifier</td>\n",
       "      <td id=\"T_3768a_row1_col1\" class=\"data row1 col1\" >0.5862</td>\n",
       "      <td id=\"T_3768a_row1_col2\" class=\"data row1 col2\" >0.5971</td>\n",
       "      <td id=\"T_3768a_row1_col3\" class=\"data row1 col3\" >0.3851</td>\n",
       "      <td id=\"T_3768a_row1_col4\" class=\"data row1 col4\" >0.6050</td>\n",
       "      <td id=\"T_3768a_row1_col5\" class=\"data row1 col5\" >0.4704</td>\n",
       "      <td id=\"T_3768a_row1_col6\" class=\"data row1 col6\" >0.1576</td>\n",
       "      <td id=\"T_3768a_row1_col7\" class=\"data row1 col7\" >0.1685</td>\n",
       "      <td id=\"T_3768a_row1_col8\" class=\"data row1 col8\" >6.5964</td>\n",
       "      <td id=\"T_3768a_row1_col9\" class=\"data row1 col9\" >0.8930</td>\n",
       "    </tr>\n",
       "    <tr>\n",
       "      <th id=\"T_3768a_level0_row2\" class=\"row_heading level0 row2\" >ridge</th>\n",
       "      <td id=\"T_3768a_row2_col0\" class=\"data row2 col0\" >Ridge Classifier</td>\n",
       "      <td id=\"T_3768a_row2_col1\" class=\"data row2 col1\" >0.5766</td>\n",
       "      <td id=\"T_3768a_row2_col2\" class=\"data row2 col2\" >0.0000</td>\n",
       "      <td id=\"T_3768a_row2_col3\" class=\"data row2 col3\" >0.4860</td>\n",
       "      <td id=\"T_3768a_row2_col4\" class=\"data row2 col4\" >0.5661</td>\n",
       "      <td id=\"T_3768a_row2_col5\" class=\"data row2 col5\" >0.5230</td>\n",
       "      <td id=\"T_3768a_row2_col6\" class=\"data row2 col6\" >0.1464</td>\n",
       "      <td id=\"T_3768a_row2_col7\" class=\"data row2 col7\" >0.1478</td>\n",
       "      <td id=\"T_3768a_row2_col8\" class=\"data row2 col8\" >6.7494</td>\n",
       "      <td id=\"T_3768a_row2_col9\" class=\"data row2 col9\" >0.5370</td>\n",
       "    </tr>\n",
       "    <tr>\n",
       "      <th id=\"T_3768a_level0_row3\" class=\"row_heading level0 row3\" >lda</th>\n",
       "      <td id=\"T_3768a_row3_col0\" class=\"data row3 col0\" >Linear Discriminant Analysis</td>\n",
       "      <td id=\"T_3768a_row3_col1\" class=\"data row3 col1\" >0.5765</td>\n",
       "      <td id=\"T_3768a_row3_col2\" class=\"data row3 col2\" >0.5996</td>\n",
       "      <td id=\"T_3768a_row3_col3\" class=\"data row3 col3\" >0.4864</td>\n",
       "      <td id=\"T_3768a_row3_col4\" class=\"data row3 col4\" >0.5658</td>\n",
       "      <td id=\"T_3768a_row3_col5\" class=\"data row3 col5\" >0.5230</td>\n",
       "      <td id=\"T_3768a_row3_col6\" class=\"data row3 col6\" >0.1460</td>\n",
       "      <td id=\"T_3768a_row3_col7\" class=\"data row3 col7\" >0.1474</td>\n",
       "      <td id=\"T_3768a_row3_col8\" class=\"data row3 col8\" >6.7522</td>\n",
       "      <td id=\"T_3768a_row3_col9\" class=\"data row3 col9\" >0.5570</td>\n",
       "    </tr>\n",
       "    <tr>\n",
       "      <th id=\"T_3768a_level0_row4\" class=\"row_heading level0 row4\" >lr</th>\n",
       "      <td id=\"T_3768a_row4_col0\" class=\"data row4 col0\" >Logistic Regression</td>\n",
       "      <td id=\"T_3768a_row4_col1\" class=\"data row4 col1\" >0.5749</td>\n",
       "      <td id=\"T_3768a_row4_col2\" class=\"data row4 col2\" >0.5977</td>\n",
       "      <td id=\"T_3768a_row4_col3\" class=\"data row4 col3\" >0.4818</td>\n",
       "      <td id=\"T_3768a_row4_col4\" class=\"data row4 col4\" >0.5643</td>\n",
       "      <td id=\"T_3768a_row4_col5\" class=\"data row4 col5\" >0.5197</td>\n",
       "      <td id=\"T_3768a_row4_col6\" class=\"data row4 col6\" >0.1426</td>\n",
       "      <td id=\"T_3768a_row4_col7\" class=\"data row4 col7\" >0.1441</td>\n",
       "      <td id=\"T_3768a_row4_col8\" class=\"data row4 col8\" >6.7775</td>\n",
       "      <td id=\"T_3768a_row4_col9\" class=\"data row4 col9\" >1.2440</td>\n",
       "    </tr>\n",
       "    <tr>\n",
       "      <th id=\"T_3768a_level0_row5\" class=\"row_heading level0 row5\" >nb</th>\n",
       "      <td id=\"T_3768a_row5_col0\" class=\"data row5 col0\" >Naive Bayes</td>\n",
       "      <td id=\"T_3768a_row5_col1\" class=\"data row5 col1\" >0.5745</td>\n",
       "      <td id=\"T_3768a_row5_col2\" class=\"data row5 col2\" >0.5959</td>\n",
       "      <td id=\"T_3768a_row5_col3\" class=\"data row5 col3\" >0.5079</td>\n",
       "      <td id=\"T_3768a_row5_col4\" class=\"data row5 col4\" >0.5601</td>\n",
       "      <td id=\"T_3768a_row5_col5\" class=\"data row5 col5\" >0.5327</td>\n",
       "      <td id=\"T_3768a_row5_col6\" class=\"data row5 col6\" >0.1439</td>\n",
       "      <td id=\"T_3768a_row5_col7\" class=\"data row5 col7\" >0.1445</td>\n",
       "      <td id=\"T_3768a_row5_col8\" class=\"data row5 col8\" >6.7831</td>\n",
       "      <td id=\"T_3768a_row5_col9\" class=\"data row5 col9\" >0.5270</td>\n",
       "    </tr>\n",
       "    <tr>\n",
       "      <th id=\"T_3768a_level0_row6\" class=\"row_heading level0 row6\" >qda</th>\n",
       "      <td id=\"T_3768a_row6_col0\" class=\"data row6 col0\" >Quadratic Discriminant Analysis</td>\n",
       "      <td id=\"T_3768a_row6_col1\" class=\"data row6 col1\" >0.5723</td>\n",
       "      <td id=\"T_3768a_row6_col2\" class=\"data row6 col2\" >0.6005</td>\n",
       "      <td id=\"T_3768a_row6_col3\" class=\"data row6 col3\" >0.5341</td>\n",
       "      <td id=\"T_3768a_row6_col4\" class=\"data row6 col4\" >0.5542</td>\n",
       "      <td id=\"T_3768a_row6_col5\" class=\"data row6 col5\" >0.5440</td>\n",
       "      <td id=\"T_3768a_row6_col6\" class=\"data row6 col6\" >0.1416</td>\n",
       "      <td id=\"T_3768a_row6_col7\" class=\"data row6 col7\" >0.1417</td>\n",
       "      <td id=\"T_3768a_row6_col8\" class=\"data row6 col8\" >6.8182</td>\n",
       "      <td id=\"T_3768a_row6_col9\" class=\"data row6 col9\" >0.4560</td>\n",
       "    </tr>\n",
       "    <tr>\n",
       "      <th id=\"T_3768a_level0_row7\" class=\"row_heading level0 row7\" >lightgbm</th>\n",
       "      <td id=\"T_3768a_row7_col0\" class=\"data row7 col0\" >Light Gradient Boosting Machine</td>\n",
       "      <td id=\"T_3768a_row7_col1\" class=\"data row7 col1\" >0.5695</td>\n",
       "      <td id=\"T_3768a_row7_col2\" class=\"data row7 col2\" >0.5870</td>\n",
       "      <td id=\"T_3768a_row7_col3\" class=\"data row7 col3\" >0.4731</td>\n",
       "      <td id=\"T_3768a_row7_col4\" class=\"data row7 col4\" >0.5583</td>\n",
       "      <td id=\"T_3768a_row7_col5\" class=\"data row7 col5\" >0.5118</td>\n",
       "      <td id=\"T_3768a_row7_col6\" class=\"data row7 col6\" >0.1316</td>\n",
       "      <td id=\"T_3768a_row7_col7\" class=\"data row7 col7\" >0.1331</td>\n",
       "      <td id=\"T_3768a_row7_col8\" class=\"data row7 col8\" >6.8631</td>\n",
       "      <td id=\"T_3768a_row7_col9\" class=\"data row7 col9\" >0.7600</td>\n",
       "    </tr>\n",
       "    <tr>\n",
       "      <th id=\"T_3768a_level0_row8\" class=\"row_heading level0 row8\" >et</th>\n",
       "      <td id=\"T_3768a_row8_col0\" class=\"data row8 col0\" >Extra Trees Classifier</td>\n",
       "      <td id=\"T_3768a_row8_col1\" class=\"data row8 col1\" >0.5537</td>\n",
       "      <td id=\"T_3768a_row8_col2\" class=\"data row8 col2\" >0.5663</td>\n",
       "      <td id=\"T_3768a_row8_col3\" class=\"data row8 col3\" >0.5389</td>\n",
       "      <td id=\"T_3768a_row8_col4\" class=\"data row8 col4\" >0.5326</td>\n",
       "      <td id=\"T_3768a_row8_col5\" class=\"data row8 col5\" >0.5356</td>\n",
       "      <td id=\"T_3768a_row8_col6\" class=\"data row8 col6\" >0.1062</td>\n",
       "      <td id=\"T_3768a_row8_col7\" class=\"data row8 col7\" >0.1063</td>\n",
       "      <td id=\"T_3768a_row8_col8\" class=\"data row8 col8\" >7.1143</td>\n",
       "      <td id=\"T_3768a_row8_col9\" class=\"data row8 col9\" >2.3330</td>\n",
       "    </tr>\n",
       "    <tr>\n",
       "      <th id=\"T_3768a_level0_row9\" class=\"row_heading level0 row9\" >rf</th>\n",
       "      <td id=\"T_3768a_row9_col0\" class=\"data row9 col0\" >Random Forest Classifier</td>\n",
       "      <td id=\"T_3768a_row9_col1\" class=\"data row9 col1\" >0.5523</td>\n",
       "      <td id=\"T_3768a_row9_col2\" class=\"data row9 col2\" >0.5680</td>\n",
       "      <td id=\"T_3768a_row9_col3\" class=\"data row9 col3\" >0.5144</td>\n",
       "      <td id=\"T_3768a_row9_col4\" class=\"data row9 col4\" >0.5324</td>\n",
       "      <td id=\"T_3768a_row9_col5\" class=\"data row9 col5\" >0.5231</td>\n",
       "      <td id=\"T_3768a_row9_col6\" class=\"data row9 col6\" >0.1016</td>\n",
       "      <td id=\"T_3768a_row9_col7\" class=\"data row9 col7\" >0.1017</td>\n",
       "      <td id=\"T_3768a_row9_col8\" class=\"data row9 col8\" >7.1368</td>\n",
       "      <td id=\"T_3768a_row9_col9\" class=\"data row9 col9\" >1.8930</td>\n",
       "    </tr>\n",
       "    <tr>\n",
       "      <th id=\"T_3768a_level0_row10\" class=\"row_heading level0 row10\" >knn</th>\n",
       "      <td id=\"T_3768a_row10_col0\" class=\"data row10 col0\" >K Neighbors Classifier</td>\n",
       "      <td id=\"T_3768a_row10_col1\" class=\"data row10 col1\" >0.5499</td>\n",
       "      <td id=\"T_3768a_row10_col2\" class=\"data row10 col2\" >0.5593</td>\n",
       "      <td id=\"T_3768a_row10_col3\" class=\"data row10 col3\" >0.5151</td>\n",
       "      <td id=\"T_3768a_row10_col4\" class=\"data row10 col4\" >0.5300</td>\n",
       "      <td id=\"T_3768a_row10_col5\" class=\"data row10 col5\" >0.5223</td>\n",
       "      <td id=\"T_3768a_row10_col6\" class=\"data row10 col6\" >0.0969</td>\n",
       "      <td id=\"T_3768a_row10_col7\" class=\"data row10 col7\" >0.0970</td>\n",
       "      <td id=\"T_3768a_row10_col8\" class=\"data row10 col8\" >7.1761</td>\n",
       "      <td id=\"T_3768a_row10_col9\" class=\"data row10 col9\" >0.8430</td>\n",
       "    </tr>\n",
       "    <tr>\n",
       "      <th id=\"T_3768a_level0_row11\" class=\"row_heading level0 row11\" >dt</th>\n",
       "      <td id=\"T_3768a_row11_col0\" class=\"data row11 col0\" >Decision Tree Classifier</td>\n",
       "      <td id=\"T_3768a_row11_col1\" class=\"data row11 col1\" >0.5324</td>\n",
       "      <td id=\"T_3768a_row11_col2\" class=\"data row11 col2\" >0.5157</td>\n",
       "      <td id=\"T_3768a_row11_col3\" class=\"data row11 col3\" >0.5833</td>\n",
       "      <td id=\"T_3768a_row11_col4\" class=\"data row11 col4\" >0.5093</td>\n",
       "      <td id=\"T_3768a_row11_col5\" class=\"data row11 col5\" >0.5436</td>\n",
       "      <td id=\"T_3768a_row11_col6\" class=\"data row11 col6\" >0.0688</td>\n",
       "      <td id=\"T_3768a_row11_col7\" class=\"data row11 col7\" >0.0696</td>\n",
       "      <td id=\"T_3768a_row11_col8\" class=\"data row11 col8\" >7.4540</td>\n",
       "      <td id=\"T_3768a_row11_col9\" class=\"data row11 col9\" >0.5180</td>\n",
       "    </tr>\n",
       "    <tr>\n",
       "      <th id=\"T_3768a_level0_row12\" class=\"row_heading level0 row12\" >dummy</th>\n",
       "      <td id=\"T_3768a_row12_col0\" class=\"data row12 col0\" >Dummy Classifier</td>\n",
       "      <td id=\"T_3768a_row12_col1\" class=\"data row12 col1\" >0.5225</td>\n",
       "      <td id=\"T_3768a_row12_col2\" class=\"data row12 col2\" >0.5000</td>\n",
       "      <td id=\"T_3768a_row12_col3\" class=\"data row12 col3\" >0.0000</td>\n",
       "      <td id=\"T_3768a_row12_col4\" class=\"data row12 col4\" >0.0000</td>\n",
       "      <td id=\"T_3768a_row12_col5\" class=\"data row12 col5\" >0.0000</td>\n",
       "      <td id=\"T_3768a_row12_col6\" class=\"data row12 col6\" >0.0000</td>\n",
       "      <td id=\"T_3768a_row12_col7\" class=\"data row12 col7\" >0.0000</td>\n",
       "      <td id=\"T_3768a_row12_col8\" class=\"data row12 col8\" >7.6126</td>\n",
       "      <td id=\"T_3768a_row12_col9\" class=\"data row12 col9\" >0.5800</td>\n",
       "    </tr>\n",
       "    <tr>\n",
       "      <th id=\"T_3768a_level0_row13\" class=\"row_heading level0 row13\" >svm</th>\n",
       "      <td id=\"T_3768a_row13_col0\" class=\"data row13 col0\" >SVM - Linear Kernel</td>\n",
       "      <td id=\"T_3768a_row13_col1\" class=\"data row13 col1\" >0.5082</td>\n",
       "      <td id=\"T_3768a_row13_col2\" class=\"data row13 col2\" >0.0000</td>\n",
       "      <td id=\"T_3768a_row13_col3\" class=\"data row13 col3\" >0.4686</td>\n",
       "      <td id=\"T_3768a_row13_col4\" class=\"data row13 col4\" >0.2440</td>\n",
       "      <td id=\"T_3768a_row13_col5\" class=\"data row13 col5\" >0.3184</td>\n",
       "      <td id=\"T_3768a_row13_col6\" class=\"data row13 col6\" >0.0129</td>\n",
       "      <td id=\"T_3768a_row13_col7\" class=\"data row13 col7\" >0.0161</td>\n",
       "      <td id=\"T_3768a_row13_col8\" class=\"data row13 col8\" >7.8399</td>\n",
       "      <td id=\"T_3768a_row13_col9\" class=\"data row13 col9\" >0.5080</td>\n",
       "    </tr>\n",
       "  </tbody>\n",
       "</table>\n"
      ],
      "text/plain": [
       "<pandas.io.formats.style.Styler at 0x2d4b0876860>"
      ]
     },
     "metadata": {},
     "output_type": "display_data"
    },
    {
     "data": {
      "text/html": [],
      "text/plain": [
       "<IPython.core.display.HTML object>"
      ]
     },
     "metadata": {},
     "output_type": "display_data"
    }
   ],
   "source": [
    "com_model = pycc.compare_models()"
   ]
  },
  {
   "cell_type": "code",
   "execution_count": 5,
   "id": "979bf1b5",
   "metadata": {},
   "outputs": [
    {
     "data": {
      "text/html": [],
      "text/plain": [
       "<IPython.core.display.HTML object>"
      ]
     },
     "metadata": {},
     "output_type": "display_data"
    },
    {
     "data": {
      "text/html": [
       "<style type=\"text/css\">\n",
       "#T_63fbe_row5_col0, #T_63fbe_row5_col1, #T_63fbe_row5_col2, #T_63fbe_row5_col3, #T_63fbe_row5_col4, #T_63fbe_row5_col5, #T_63fbe_row5_col6, #T_63fbe_row5_col7 {\n",
       "  background: yellow;\n",
       "}\n",
       "</style>\n",
       "<table id=\"T_63fbe\">\n",
       "  <thead>\n",
       "    <tr>\n",
       "      <th class=\"blank level0\" >&nbsp;</th>\n",
       "      <th id=\"T_63fbe_level0_col0\" class=\"col_heading level0 col0\" >Accuracy</th>\n",
       "      <th id=\"T_63fbe_level0_col1\" class=\"col_heading level0 col1\" >AUC</th>\n",
       "      <th id=\"T_63fbe_level0_col2\" class=\"col_heading level0 col2\" >Recall</th>\n",
       "      <th id=\"T_63fbe_level0_col3\" class=\"col_heading level0 col3\" >Prec.</th>\n",
       "      <th id=\"T_63fbe_level0_col4\" class=\"col_heading level0 col4\" >F1</th>\n",
       "      <th id=\"T_63fbe_level0_col5\" class=\"col_heading level0 col5\" >Kappa</th>\n",
       "      <th id=\"T_63fbe_level0_col6\" class=\"col_heading level0 col6\" >MCC</th>\n",
       "      <th id=\"T_63fbe_level0_col7\" class=\"col_heading level0 col7\" >Log Loss</th>\n",
       "    </tr>\n",
       "    <tr>\n",
       "      <th class=\"index_name level0\" >Fold</th>\n",
       "      <th class=\"blank col0\" >&nbsp;</th>\n",
       "      <th class=\"blank col1\" >&nbsp;</th>\n",
       "      <th class=\"blank col2\" >&nbsp;</th>\n",
       "      <th class=\"blank col3\" >&nbsp;</th>\n",
       "      <th class=\"blank col4\" >&nbsp;</th>\n",
       "      <th class=\"blank col5\" >&nbsp;</th>\n",
       "      <th class=\"blank col6\" >&nbsp;</th>\n",
       "      <th class=\"blank col7\" >&nbsp;</th>\n",
       "    </tr>\n",
       "  </thead>\n",
       "  <tbody>\n",
       "    <tr>\n",
       "      <th id=\"T_63fbe_level0_row0\" class=\"row_heading level0 row0\" >0</th>\n",
       "      <td id=\"T_63fbe_row0_col0\" class=\"data row0 col0\" >0.5898</td>\n",
       "      <td id=\"T_63fbe_row0_col1\" class=\"data row0 col1\" >0.6073</td>\n",
       "      <td id=\"T_63fbe_row0_col2\" class=\"data row0 col2\" >0.4885</td>\n",
       "      <td id=\"T_63fbe_row0_col3\" class=\"data row0 col3\" >0.5843</td>\n",
       "      <td id=\"T_63fbe_row0_col4\" class=\"data row0 col4\" >0.5321</td>\n",
       "      <td id=\"T_63fbe_row0_col5\" class=\"data row0 col5\" >0.1721</td>\n",
       "      <td id=\"T_63fbe_row0_col6\" class=\"data row0 col6\" >0.1743</td>\n",
       "      <td id=\"T_63fbe_row0_col7\" class=\"data row0 col7\" >6.5397</td>\n",
       "    </tr>\n",
       "    <tr>\n",
       "      <th id=\"T_63fbe_level0_row1\" class=\"row_heading level0 row1\" >1</th>\n",
       "      <td id=\"T_63fbe_row1_col0\" class=\"data row1 col0\" >0.5673</td>\n",
       "      <td id=\"T_63fbe_row1_col1\" class=\"data row1 col1\" >0.5933</td>\n",
       "      <td id=\"T_63fbe_row1_col2\" class=\"data row1 col2\" >0.4498</td>\n",
       "      <td id=\"T_63fbe_row1_col3\" class=\"data row1 col3\" >0.5584</td>\n",
       "      <td id=\"T_63fbe_row1_col4\" class=\"data row1 col4\" >0.4982</td>\n",
       "      <td id=\"T_63fbe_row1_col5\" class=\"data row1 col5\" >0.1256</td>\n",
       "      <td id=\"T_63fbe_row1_col6\" class=\"data row1 col6\" >0.1279</td>\n",
       "      <td id=\"T_63fbe_row1_col7\" class=\"data row1 col7\" >6.8976</td>\n",
       "    </tr>\n",
       "    <tr>\n",
       "      <th id=\"T_63fbe_level0_row2\" class=\"row_heading level0 row2\" >2</th>\n",
       "      <td id=\"T_63fbe_row2_col0\" class=\"data row2 col0\" >0.5669</td>\n",
       "      <td id=\"T_63fbe_row2_col1\" class=\"data row2 col1\" >0.5903</td>\n",
       "      <td id=\"T_63fbe_row2_col2\" class=\"data row2 col2\" >0.4627</td>\n",
       "      <td id=\"T_63fbe_row2_col3\" class=\"data row2 col3\" >0.5559</td>\n",
       "      <td id=\"T_63fbe_row2_col4\" class=\"data row2 col4\" >0.5050</td>\n",
       "      <td id=\"T_63fbe_row2_col5\" class=\"data row2 col5\" >0.1258</td>\n",
       "      <td id=\"T_63fbe_row2_col6\" class=\"data row2 col6\" >0.1274</td>\n",
       "      <td id=\"T_63fbe_row2_col7\" class=\"data row2 col7\" >6.9046</td>\n",
       "    </tr>\n",
       "    <tr>\n",
       "      <th id=\"T_63fbe_level0_row3\" class=\"row_heading level0 row3\" >3</th>\n",
       "      <td id=\"T_63fbe_row3_col0\" class=\"data row3 col0\" >0.5629</td>\n",
       "      <td id=\"T_63fbe_row3_col1\" class=\"data row3 col1\" >0.5745</td>\n",
       "      <td id=\"T_63fbe_row3_col2\" class=\"data row3 col2\" >0.4673</td>\n",
       "      <td id=\"T_63fbe_row3_col3\" class=\"data row3 col3\" >0.5499</td>\n",
       "      <td id=\"T_63fbe_row3_col4\" class=\"data row3 col4\" >0.5052</td>\n",
       "      <td id=\"T_63fbe_row3_col5\" class=\"data row3 col5\" >0.1184</td>\n",
       "      <td id=\"T_63fbe_row3_col6\" class=\"data row3 col6\" >0.1197</td>\n",
       "      <td id=\"T_63fbe_row3_col7\" class=\"data row3 col7\" >6.9678</td>\n",
       "    </tr>\n",
       "    <tr>\n",
       "      <th id=\"T_63fbe_level0_row4\" class=\"row_heading level0 row4\" >4</th>\n",
       "      <td id=\"T_63fbe_row4_col0\" class=\"data row4 col0\" >0.5848</td>\n",
       "      <td id=\"T_63fbe_row4_col1\" class=\"data row4 col1\" >0.6061</td>\n",
       "      <td id=\"T_63fbe_row4_col2\" class=\"data row4 col2\" >0.5129</td>\n",
       "      <td id=\"T_63fbe_row4_col3\" class=\"data row4 col3\" >0.5726</td>\n",
       "      <td id=\"T_63fbe_row4_col4\" class=\"data row4 col4\" >0.5411</td>\n",
       "      <td id=\"T_63fbe_row4_col5\" class=\"data row4 col5\" >0.1640</td>\n",
       "      <td id=\"T_63fbe_row4_col6\" class=\"data row4 col6\" >0.1649</td>\n",
       "      <td id=\"T_63fbe_row4_col7\" class=\"data row4 col7\" >6.6198</td>\n",
       "    </tr>\n",
       "    <tr>\n",
       "      <th id=\"T_63fbe_level0_row5\" class=\"row_heading level0 row5\" >Mean</th>\n",
       "      <td id=\"T_63fbe_row5_col0\" class=\"data row5 col0\" >0.5743</td>\n",
       "      <td id=\"T_63fbe_row5_col1\" class=\"data row5 col1\" >0.5943</td>\n",
       "      <td id=\"T_63fbe_row5_col2\" class=\"data row5 col2\" >0.4762</td>\n",
       "      <td id=\"T_63fbe_row5_col3\" class=\"data row5 col3\" >0.5642</td>\n",
       "      <td id=\"T_63fbe_row5_col4\" class=\"data row5 col4\" >0.5163</td>\n",
       "      <td id=\"T_63fbe_row5_col5\" class=\"data row5 col5\" >0.1412</td>\n",
       "      <td id=\"T_63fbe_row5_col6\" class=\"data row5 col6\" >0.1428</td>\n",
       "      <td id=\"T_63fbe_row5_col7\" class=\"data row5 col7\" >6.7859</td>\n",
       "    </tr>\n",
       "    <tr>\n",
       "      <th id=\"T_63fbe_level0_row6\" class=\"row_heading level0 row6\" >Std</th>\n",
       "      <td id=\"T_63fbe_row6_col0\" class=\"data row6 col0\" >0.0108</td>\n",
       "      <td id=\"T_63fbe_row6_col1\" class=\"data row6 col1\" >0.0120</td>\n",
       "      <td id=\"T_63fbe_row6_col2\" class=\"data row6 col2\" >0.0222</td>\n",
       "      <td id=\"T_63fbe_row6_col3\" class=\"data row6 col3\" >0.0125</td>\n",
       "      <td id=\"T_63fbe_row6_col4\" class=\"data row6 col4\" >0.0170</td>\n",
       "      <td id=\"T_63fbe_row6_col5\" class=\"data row6 col5\" >0.0222</td>\n",
       "      <td id=\"T_63fbe_row6_col6\" class=\"data row6 col6\" >0.0222</td>\n",
       "      <td id=\"T_63fbe_row6_col7\" class=\"data row6 col7\" >0.1719</td>\n",
       "    </tr>\n",
       "  </tbody>\n",
       "</table>\n"
      ],
      "text/plain": [
       "<pandas.io.formats.style.Styler at 0x22068fc84c0>"
      ]
     },
     "metadata": {},
     "output_type": "display_data"
    },
    {
     "data": {
      "text/html": [],
      "text/plain": [
       "<IPython.core.display.HTML object>"
      ]
     },
     "metadata": {},
     "output_type": "display_data"
    }
   ],
   "source": [
    "lr_clf = pycc.create_model('lr', fold = 5)"
   ]
  },
  {
   "cell_type": "code",
   "execution_count": 47,
   "id": "b4a7fa17",
   "metadata": {},
   "outputs": [
    {
     "data": {
      "text/html": [
       "<pre style=\"white-space:pre;overflow-x:auto;line-height:normal;font-family:Menlo,'DejaVu Sans Mono',consolas,'Courier New',monospace\"><span style=\"color: #7fbfbf; text-decoration-color: #7fbfbf\">[04/09/23 00:33:01] </span><span style=\"color: #000080; text-decoration-color: #000080\">INFO    </span> Loading data from <span style=\"color: #008000; text-decoration-color: #008000\">'data_test'</span> <span style=\"font-weight: bold\">(</span>ParquetDataSet<span style=\"font-weight: bold\">)</span><span style=\"color: #808000; text-decoration-color: #808000\">...</span>                  <span style=\"color: #7f7f7f; text-decoration-color: #7f7f7f\">data_catalog.py:343</span>\n",
       "</pre>\n"
      ],
      "text/plain": [
       "\u001b[2;36m[04/09/23 00:33:01]\u001b[0m\u001b[2;36m \u001b[0m\u001b[34mINFO    \u001b[0m Loading data from \u001b[32m'data_test'\u001b[0m \u001b[1m(\u001b[0mParquetDataSet\u001b[1m)\u001b[0m\u001b[33m...\u001b[0m                  \u001b[2mdata_catalog.py\u001b[0m\u001b[2m:\u001b[0m\u001b[2m343\u001b[0m\n"
      ]
     },
     "metadata": {},
     "output_type": "display_data"
    },
    {
     "data": {
      "text/html": [
       "<style type=\"text/css\">\n",
       "</style>\n",
       "<table id=\"T_52779\">\n",
       "  <thead>\n",
       "    <tr>\n",
       "      <th class=\"blank level0\" >&nbsp;</th>\n",
       "      <th id=\"T_52779_level0_col0\" class=\"col_heading level0 col0\" >Model</th>\n",
       "      <th id=\"T_52779_level0_col1\" class=\"col_heading level0 col1\" >Accuracy</th>\n",
       "      <th id=\"T_52779_level0_col2\" class=\"col_heading level0 col2\" >AUC</th>\n",
       "      <th id=\"T_52779_level0_col3\" class=\"col_heading level0 col3\" >Recall</th>\n",
       "      <th id=\"T_52779_level0_col4\" class=\"col_heading level0 col4\" >Prec.</th>\n",
       "      <th id=\"T_52779_level0_col5\" class=\"col_heading level0 col5\" >F1</th>\n",
       "      <th id=\"T_52779_level0_col6\" class=\"col_heading level0 col6\" >Kappa</th>\n",
       "      <th id=\"T_52779_level0_col7\" class=\"col_heading level0 col7\" >MCC</th>\n",
       "      <th id=\"T_52779_level0_col8\" class=\"col_heading level0 col8\" >Log Loss</th>\n",
       "    </tr>\n",
       "  </thead>\n",
       "  <tbody>\n",
       "    <tr>\n",
       "      <th id=\"T_52779_level0_row0\" class=\"row_heading level0 row0\" >0</th>\n",
       "      <td id=\"T_52779_row0_col0\" class=\"data row0 col0\" >Logistic Regression</td>\n",
       "      <td id=\"T_52779_row0_col1\" class=\"data row0 col1\" >0.5783</td>\n",
       "      <td id=\"T_52779_row0_col2\" class=\"data row0 col2\" >0.5976</td>\n",
       "      <td id=\"T_52779_row0_col3\" class=\"data row0 col3\" >0.4995</td>\n",
       "      <td id=\"T_52779_row0_col4\" class=\"data row0 col4\" >0.5652</td>\n",
       "      <td id=\"T_52779_row0_col5\" class=\"data row0 col5\" >0.5303</td>\n",
       "      <td id=\"T_52779_row0_col6\" class=\"data row0 col6\" >0.1503</td>\n",
       "      <td id=\"T_52779_row0_col7\" class=\"data row0 col7\" >0.1512</td>\n",
       "      <td id=\"T_52779_row0_col8\" class=\"data row0 col8\" >6.7235</td>\n",
       "    </tr>\n",
       "  </tbody>\n",
       "</table>\n"
      ],
      "text/plain": [
       "<pandas.io.formats.style.Styler at 0x2108ab2f790>"
      ]
     },
     "metadata": {},
     "output_type": "display_data"
    }
   ],
   "source": [
    "# Make model predictions on unseen data\n",
    "stacked_clf_dynamic_pred_unseen = pycc.predict_model(lr_clf,\n",
    "                                                     raw_score = True,\n",
    "                                                     data = catalog.load('data_test'))"
   ]
  },
  {
   "cell_type": "code",
   "execution_count": 48,
   "id": "8d2c1ea7",
   "metadata": {},
   "outputs": [
    {
     "data": {
      "text/plain": [
       "0    0.5303\n",
       "Name: F1, dtype: float64"
      ]
     },
     "execution_count": 48,
     "metadata": {},
     "output_type": "execute_result"
    }
   ],
   "source": [
    "stacked_clf_dynamic_pred_results = pycc.pull()\n",
    "stacked_clf_dynamic_pred_results['F1']"
   ]
  },
  {
   "cell_type": "code",
   "execution_count": 49,
   "id": "5da15865",
   "metadata": {},
   "outputs": [
    {
     "data": {
      "text/plain": [
       "0    6.7235\n",
       "Name: Log Loss, dtype: float64"
      ]
     },
     "execution_count": 49,
     "metadata": {},
     "output_type": "execute_result"
    }
   ],
   "source": [
    "stacked_clf_dynamic_pred_results['Log Loss']"
   ]
  },
  {
   "cell_type": "code",
   "execution_count": 6,
   "id": "c28a6961",
   "metadata": {},
   "outputs": [
    {
     "data": {
      "text/html": [
       "<div>\n",
       "<style scoped>\n",
       "    .dataframe tbody tr th:only-of-type {\n",
       "        vertical-align: middle;\n",
       "    }\n",
       "\n",
       "    .dataframe tbody tr th {\n",
       "        vertical-align: top;\n",
       "    }\n",
       "\n",
       "    .dataframe thead th {\n",
       "        text-align: right;\n",
       "    }\n",
       "</style>\n",
       "<table border=\"1\" class=\"dataframe\">\n",
       "  <thead>\n",
       "    <tr style=\"text-align: right;\">\n",
       "      <th></th>\n",
       "      <th>Name</th>\n",
       "      <th>Reference</th>\n",
       "      <th>Turbo</th>\n",
       "    </tr>\n",
       "    <tr>\n",
       "      <th>ID</th>\n",
       "      <th></th>\n",
       "      <th></th>\n",
       "      <th></th>\n",
       "    </tr>\n",
       "  </thead>\n",
       "  <tbody>\n",
       "    <tr>\n",
       "      <th>lr</th>\n",
       "      <td>Logistic Regression</td>\n",
       "      <td>sklearn.linear_model._logistic.LogisticRegression</td>\n",
       "      <td>True</td>\n",
       "    </tr>\n",
       "    <tr>\n",
       "      <th>knn</th>\n",
       "      <td>K Neighbors Classifier</td>\n",
       "      <td>sklearn.neighbors._classification.KNeighborsCl...</td>\n",
       "      <td>True</td>\n",
       "    </tr>\n",
       "    <tr>\n",
       "      <th>nb</th>\n",
       "      <td>Naive Bayes</td>\n",
       "      <td>sklearn.naive_bayes.GaussianNB</td>\n",
       "      <td>True</td>\n",
       "    </tr>\n",
       "    <tr>\n",
       "      <th>dt</th>\n",
       "      <td>Decision Tree Classifier</td>\n",
       "      <td>sklearn.tree._classes.DecisionTreeClassifier</td>\n",
       "      <td>True</td>\n",
       "    </tr>\n",
       "    <tr>\n",
       "      <th>svm</th>\n",
       "      <td>SVM - Linear Kernel</td>\n",
       "      <td>sklearn.linear_model._stochastic_gradient.SGDC...</td>\n",
       "      <td>True</td>\n",
       "    </tr>\n",
       "    <tr>\n",
       "      <th>rbfsvm</th>\n",
       "      <td>SVM - Radial Kernel</td>\n",
       "      <td>sklearn.svm._classes.SVC</td>\n",
       "      <td>False</td>\n",
       "    </tr>\n",
       "    <tr>\n",
       "      <th>gpc</th>\n",
       "      <td>Gaussian Process Classifier</td>\n",
       "      <td>sklearn.gaussian_process._gpc.GaussianProcessC...</td>\n",
       "      <td>False</td>\n",
       "    </tr>\n",
       "    <tr>\n",
       "      <th>mlp</th>\n",
       "      <td>MLP Classifier</td>\n",
       "      <td>sklearn.neural_network._multilayer_perceptron....</td>\n",
       "      <td>False</td>\n",
       "    </tr>\n",
       "    <tr>\n",
       "      <th>ridge</th>\n",
       "      <td>Ridge Classifier</td>\n",
       "      <td>sklearn.linear_model._ridge.RidgeClassifier</td>\n",
       "      <td>True</td>\n",
       "    </tr>\n",
       "    <tr>\n",
       "      <th>rf</th>\n",
       "      <td>Random Forest Classifier</td>\n",
       "      <td>sklearn.ensemble._forest.RandomForestClassifier</td>\n",
       "      <td>True</td>\n",
       "    </tr>\n",
       "    <tr>\n",
       "      <th>qda</th>\n",
       "      <td>Quadratic Discriminant Analysis</td>\n",
       "      <td>sklearn.discriminant_analysis.QuadraticDiscrim...</td>\n",
       "      <td>True</td>\n",
       "    </tr>\n",
       "    <tr>\n",
       "      <th>ada</th>\n",
       "      <td>Ada Boost Classifier</td>\n",
       "      <td>sklearn.ensemble._weight_boosting.AdaBoostClas...</td>\n",
       "      <td>True</td>\n",
       "    </tr>\n",
       "    <tr>\n",
       "      <th>gbc</th>\n",
       "      <td>Gradient Boosting Classifier</td>\n",
       "      <td>sklearn.ensemble._gb.GradientBoostingClassifier</td>\n",
       "      <td>True</td>\n",
       "    </tr>\n",
       "    <tr>\n",
       "      <th>lda</th>\n",
       "      <td>Linear Discriminant Analysis</td>\n",
       "      <td>sklearn.discriminant_analysis.LinearDiscrimina...</td>\n",
       "      <td>True</td>\n",
       "    </tr>\n",
       "    <tr>\n",
       "      <th>et</th>\n",
       "      <td>Extra Trees Classifier</td>\n",
       "      <td>sklearn.ensemble._forest.ExtraTreesClassifier</td>\n",
       "      <td>True</td>\n",
       "    </tr>\n",
       "    <tr>\n",
       "      <th>lightgbm</th>\n",
       "      <td>Light Gradient Boosting Machine</td>\n",
       "      <td>lightgbm.sklearn.LGBMClassifier</td>\n",
       "      <td>True</td>\n",
       "    </tr>\n",
       "    <tr>\n",
       "      <th>dummy</th>\n",
       "      <td>Dummy Classifier</td>\n",
       "      <td>sklearn.dummy.DummyClassifier</td>\n",
       "      <td>True</td>\n",
       "    </tr>\n",
       "  </tbody>\n",
       "</table>\n",
       "</div>"
      ],
      "text/plain": [
       "                                     Name  \\\n",
       "ID                                          \n",
       "lr                    Logistic Regression   \n",
       "knn                K Neighbors Classifier   \n",
       "nb                            Naive Bayes   \n",
       "dt               Decision Tree Classifier   \n",
       "svm                   SVM - Linear Kernel   \n",
       "rbfsvm                SVM - Radial Kernel   \n",
       "gpc           Gaussian Process Classifier   \n",
       "mlp                        MLP Classifier   \n",
       "ridge                    Ridge Classifier   \n",
       "rf               Random Forest Classifier   \n",
       "qda       Quadratic Discriminant Analysis   \n",
       "ada                  Ada Boost Classifier   \n",
       "gbc          Gradient Boosting Classifier   \n",
       "lda          Linear Discriminant Analysis   \n",
       "et                 Extra Trees Classifier   \n",
       "lightgbm  Light Gradient Boosting Machine   \n",
       "dummy                    Dummy Classifier   \n",
       "\n",
       "                                                  Reference  Turbo  \n",
       "ID                                                                  \n",
       "lr        sklearn.linear_model._logistic.LogisticRegression   True  \n",
       "knn       sklearn.neighbors._classification.KNeighborsCl...   True  \n",
       "nb                           sklearn.naive_bayes.GaussianNB   True  \n",
       "dt             sklearn.tree._classes.DecisionTreeClassifier   True  \n",
       "svm       sklearn.linear_model._stochastic_gradient.SGDC...   True  \n",
       "rbfsvm                             sklearn.svm._classes.SVC  False  \n",
       "gpc       sklearn.gaussian_process._gpc.GaussianProcessC...  False  \n",
       "mlp       sklearn.neural_network._multilayer_perceptron....  False  \n",
       "ridge           sklearn.linear_model._ridge.RidgeClassifier   True  \n",
       "rf          sklearn.ensemble._forest.RandomForestClassifier   True  \n",
       "qda       sklearn.discriminant_analysis.QuadraticDiscrim...   True  \n",
       "ada       sklearn.ensemble._weight_boosting.AdaBoostClas...   True  \n",
       "gbc         sklearn.ensemble._gb.GradientBoostingClassifier   True  \n",
       "lda       sklearn.discriminant_analysis.LinearDiscrimina...   True  \n",
       "et            sklearn.ensemble._forest.ExtraTreesClassifier   True  \n",
       "lightgbm                    lightgbm.sklearn.LGBMClassifier   True  \n",
       "dummy                         sklearn.dummy.DummyClassifier   True  "
      ]
     },
     "execution_count": 6,
     "metadata": {},
     "output_type": "execute_result"
    }
   ],
   "source": [
    "available_models = pycc.models()\n",
    "available_models"
   ]
  },
  {
   "cell_type": "code",
   "execution_count": null,
   "id": "99cb6783",
   "metadata": {},
   "outputs": [],
   "source": [
    "best_clf = pycc.compare_models(cross_validation=False)"
   ]
  },
  {
   "cell_type": "code",
   "execution_count": null,
   "id": "8287c62e",
   "metadata": {},
   "outputs": [],
   "source": [
    "best_clf = pycc.compare_models()"
   ]
  },
  {
   "cell_type": "code",
   "execution_count": null,
   "id": "9544af9a",
   "metadata": {},
   "outputs": [],
   "source": [
    "print(best_clf)"
   ]
  },
  {
   "cell_type": "code",
   "execution_count": null,
   "id": "2b837b98",
   "metadata": {},
   "outputs": [],
   "source": [
    "best_clf_specific = pycc.compare_models(include = ['ada', 'qda', 'svm'])"
   ]
  },
  {
   "cell_type": "code",
   "execution_count": null,
   "id": "466542ed",
   "metadata": {},
   "outputs": [],
   "source": [
    "pycc.plot_model(best_clf_specific, plot = 'auc')"
   ]
  },
  {
   "cell_type": "code",
   "execution_count": null,
   "id": "6e74a78f",
   "metadata": {},
   "outputs": [],
   "source": [
    "pycc.plot_model(best_clf_specific, \n",
    "                plot = 'confusion_matrix', \n",
    "                plot_kwargs = {'percent' : True})"
   ]
  },
  {
   "cell_type": "code",
   "execution_count": null,
   "id": "dd85eca9",
   "metadata": {},
   "outputs": [],
   "source": [
    "ada_clf = pycc.create_model('ada', fold = 5)"
   ]
  },
  {
   "cell_type": "code",
   "execution_count": 19,
   "id": "4a3a678e",
   "metadata": {},
   "outputs": [
    {
     "data": {
      "text/html": [
       "<div>\n",
       "<style scoped>\n",
       "    .dataframe tbody tr th:only-of-type {\n",
       "        vertical-align: middle;\n",
       "    }\n",
       "\n",
       "    .dataframe tbody tr th {\n",
       "        vertical-align: top;\n",
       "    }\n",
       "\n",
       "    .dataframe thead th {\n",
       "        text-align: right;\n",
       "    }\n",
       "</style>\n",
       "<table border=\"1\" class=\"dataframe\">\n",
       "  <thead>\n",
       "    <tr style=\"text-align: right;\">\n",
       "      <th></th>\n",
       "      <th>Accuracy</th>\n",
       "      <th>AUC</th>\n",
       "      <th>Recall</th>\n",
       "      <th>Prec.</th>\n",
       "      <th>F1</th>\n",
       "      <th>Kappa</th>\n",
       "      <th>MCC</th>\n",
       "    </tr>\n",
       "    <tr>\n",
       "      <th>Fold</th>\n",
       "      <th></th>\n",
       "      <th></th>\n",
       "      <th></th>\n",
       "      <th></th>\n",
       "      <th></th>\n",
       "      <th></th>\n",
       "      <th></th>\n",
       "    </tr>\n",
       "  </thead>\n",
       "  <tbody>\n",
       "    <tr>\n",
       "      <th>Mean</th>\n",
       "      <td>0.5915</td>\n",
       "      <td>0.6053</td>\n",
       "      <td>0.3826</td>\n",
       "      <td>0.6164</td>\n",
       "      <td>0.4720</td>\n",
       "      <td>0.1678</td>\n",
       "      <td>0.1805</td>\n",
       "    </tr>\n",
       "    <tr>\n",
       "      <th>Std</th>\n",
       "      <td>0.0059</td>\n",
       "      <td>0.0074</td>\n",
       "      <td>0.0160</td>\n",
       "      <td>0.0078</td>\n",
       "      <td>0.0135</td>\n",
       "      <td>0.0126</td>\n",
       "      <td>0.0124</td>\n",
       "    </tr>\n",
       "  </tbody>\n",
       "</table>\n",
       "</div>"
      ],
      "text/plain": [
       "      Accuracy     AUC  Recall   Prec.      F1   Kappa     MCC\n",
       "Fold                                                          \n",
       "Mean    0.5915  0.6053  0.3826  0.6164  0.4720  0.1678  0.1805\n",
       "Std     0.0059  0.0074  0.0160  0.0078  0.0135  0.0126  0.0124"
      ]
     },
     "execution_count": 19,
     "metadata": {},
     "output_type": "execute_result"
    }
   ],
   "source": [
    "ada_clf_results = pycc.pull()\n",
    "ada_clf_results.loc[['Mean', 'Std']]"
   ]
  },
  {
   "cell_type": "code",
   "execution_count": 20,
   "id": "aac2a08d",
   "metadata": {},
   "outputs": [
    {
     "data": {
      "text/html": [],
      "text/plain": [
       "<IPython.core.display.HTML object>"
      ]
     },
     "metadata": {},
     "output_type": "display_data"
    },
    {
     "data": {
      "text/html": [
       "<style type=\"text/css\">\n",
       "#T_bcc00_row10_col0, #T_bcc00_row10_col1, #T_bcc00_row10_col2, #T_bcc00_row10_col3, #T_bcc00_row10_col4, #T_bcc00_row10_col5, #T_bcc00_row10_col6 {\n",
       "  background: yellow;\n",
       "}\n",
       "</style>\n",
       "<table id=\"T_bcc00\">\n",
       "  <thead>\n",
       "    <tr>\n",
       "      <th class=\"blank level0\" >&nbsp;</th>\n",
       "      <th id=\"T_bcc00_level0_col0\" class=\"col_heading level0 col0\" >Accuracy</th>\n",
       "      <th id=\"T_bcc00_level0_col1\" class=\"col_heading level0 col1\" >AUC</th>\n",
       "      <th id=\"T_bcc00_level0_col2\" class=\"col_heading level0 col2\" >Recall</th>\n",
       "      <th id=\"T_bcc00_level0_col3\" class=\"col_heading level0 col3\" >Prec.</th>\n",
       "      <th id=\"T_bcc00_level0_col4\" class=\"col_heading level0 col4\" >F1</th>\n",
       "      <th id=\"T_bcc00_level0_col5\" class=\"col_heading level0 col5\" >Kappa</th>\n",
       "      <th id=\"T_bcc00_level0_col6\" class=\"col_heading level0 col6\" >MCC</th>\n",
       "    </tr>\n",
       "    <tr>\n",
       "      <th class=\"index_name level0\" >Fold</th>\n",
       "      <th class=\"blank col0\" >&nbsp;</th>\n",
       "      <th class=\"blank col1\" >&nbsp;</th>\n",
       "      <th class=\"blank col2\" >&nbsp;</th>\n",
       "      <th class=\"blank col3\" >&nbsp;</th>\n",
       "      <th class=\"blank col4\" >&nbsp;</th>\n",
       "      <th class=\"blank col5\" >&nbsp;</th>\n",
       "      <th class=\"blank col6\" >&nbsp;</th>\n",
       "    </tr>\n",
       "  </thead>\n",
       "  <tbody>\n",
       "    <tr>\n",
       "      <th id=\"T_bcc00_level0_row0\" class=\"row_heading level0 row0\" >0</th>\n",
       "      <td id=\"T_bcc00_row0_col0\" class=\"data row0 col0\" >0.5766</td>\n",
       "      <td id=\"T_bcc00_row0_col1\" class=\"data row0 col1\" >0.5666</td>\n",
       "      <td id=\"T_bcc00_row0_col2\" class=\"data row0 col2\" >0.3487</td>\n",
       "      <td id=\"T_bcc00_row0_col3\" class=\"data row0 col3\" >0.5962</td>\n",
       "      <td id=\"T_bcc00_row0_col4\" class=\"data row0 col4\" >0.4400</td>\n",
       "      <td id=\"T_bcc00_row0_col5\" class=\"data row0 col5\" >0.1357</td>\n",
       "      <td id=\"T_bcc00_row0_col6\" class=\"data row0 col6\" >0.1484</td>\n",
       "    </tr>\n",
       "    <tr>\n",
       "      <th id=\"T_bcc00_level0_row1\" class=\"row_heading level0 row1\" >1</th>\n",
       "      <td id=\"T_bcc00_row1_col0\" class=\"data row1 col0\" >0.5942</td>\n",
       "      <td id=\"T_bcc00_row1_col1\" class=\"data row1 col1\" >0.5838</td>\n",
       "      <td id=\"T_bcc00_row1_col2\" class=\"data row1 col2\" >0.3579</td>\n",
       "      <td id=\"T_bcc00_row1_col3\" class=\"data row1 col3\" >0.6319</td>\n",
       "      <td id=\"T_bcc00_row1_col4\" class=\"data row1 col4\" >0.4570</td>\n",
       "      <td id=\"T_bcc00_row1_col5\" class=\"data row1 col5\" >0.1709</td>\n",
       "      <td id=\"T_bcc00_row1_col6\" class=\"data row1 col6\" >0.1886</td>\n",
       "    </tr>\n",
       "    <tr>\n",
       "      <th id=\"T_bcc00_level0_row2\" class=\"row_heading level0 row2\" >2</th>\n",
       "      <td id=\"T_bcc00_row2_col0\" class=\"data row2 col0\" >0.6224</td>\n",
       "      <td id=\"T_bcc00_row2_col1\" class=\"data row2 col1\" >0.6127</td>\n",
       "      <td id=\"T_bcc00_row2_col2\" class=\"data row2 col2\" >0.4022</td>\n",
       "      <td id=\"T_bcc00_row2_col3\" class=\"data row2 col3\" >0.6749</td>\n",
       "      <td id=\"T_bcc00_row2_col4\" class=\"data row2 col4\" >0.5040</td>\n",
       "      <td id=\"T_bcc00_row2_col5\" class=\"data row2 col5\" >0.2295</td>\n",
       "      <td id=\"T_bcc00_row2_col6\" class=\"data row2 col6\" >0.2496</td>\n",
       "    </tr>\n",
       "    <tr>\n",
       "      <th id=\"T_bcc00_level0_row3\" class=\"row_heading level0 row3\" >3</th>\n",
       "      <td id=\"T_bcc00_row3_col0\" class=\"data row3 col0\" >0.5827</td>\n",
       "      <td id=\"T_bcc00_row3_col1\" class=\"data row3 col1\" >0.5731</td>\n",
       "      <td id=\"T_bcc00_row3_col2\" class=\"data row3 col2\" >0.3635</td>\n",
       "      <td id=\"T_bcc00_row3_col3\" class=\"data row3 col3\" >0.6043</td>\n",
       "      <td id=\"T_bcc00_row3_col4\" class=\"data row3 col4\" >0.4539</td>\n",
       "      <td id=\"T_bcc00_row3_col5\" class=\"data row3 col5\" >0.1489</td>\n",
       "      <td id=\"T_bcc00_row3_col6\" class=\"data row3 col6\" >0.1615</td>\n",
       "    </tr>\n",
       "    <tr>\n",
       "      <th id=\"T_bcc00_level0_row4\" class=\"row_heading level0 row4\" >4</th>\n",
       "      <td id=\"T_bcc00_row4_col0\" class=\"data row4 col0\" >0.5977</td>\n",
       "      <td id=\"T_bcc00_row4_col1\" class=\"data row4 col1\" >0.5891</td>\n",
       "      <td id=\"T_bcc00_row4_col2\" class=\"data row4 col2\" >0.4004</td>\n",
       "      <td id=\"T_bcc00_row4_col3\" class=\"data row4 col3\" >0.6218</td>\n",
       "      <td id=\"T_bcc00_row4_col4\" class=\"data row4 col4\" >0.4871</td>\n",
       "      <td id=\"T_bcc00_row4_col5\" class=\"data row4 col5\" >0.1810</td>\n",
       "      <td id=\"T_bcc00_row4_col6\" class=\"data row4 col6\" >0.1929</td>\n",
       "    </tr>\n",
       "    <tr>\n",
       "      <th id=\"T_bcc00_level0_row5\" class=\"row_heading level0 row5\" >5</th>\n",
       "      <td id=\"T_bcc00_row5_col0\" class=\"data row5 col0\" >0.5924</td>\n",
       "      <td id=\"T_bcc00_row5_col1\" class=\"data row5 col1\" >0.5820</td>\n",
       "      <td id=\"T_bcc00_row5_col2\" class=\"data row5 col2\" >0.3444</td>\n",
       "      <td id=\"T_bcc00_row5_col3\" class=\"data row5 col3\" >0.6361</td>\n",
       "      <td id=\"T_bcc00_row5_col4\" class=\"data row5 col4\" >0.4468</td>\n",
       "      <td id=\"T_bcc00_row5_col5\" class=\"data row5 col5\" >0.1672</td>\n",
       "      <td id=\"T_bcc00_row5_col6\" class=\"data row5 col6\" >0.1870</td>\n",
       "    </tr>\n",
       "    <tr>\n",
       "      <th id=\"T_bcc00_level0_row6\" class=\"row_heading level0 row6\" >6</th>\n",
       "      <td id=\"T_bcc00_row6_col0\" class=\"data row6 col0\" >0.6004</td>\n",
       "      <td id=\"T_bcc00_row6_col1\" class=\"data row6 col1\" >0.5899</td>\n",
       "      <td id=\"T_bcc00_row6_col2\" class=\"data row6 col2\" >0.3517</td>\n",
       "      <td id=\"T_bcc00_row6_col3\" class=\"data row6 col3\" >0.6519</td>\n",
       "      <td id=\"T_bcc00_row6_col4\" class=\"data row6 col4\" >0.4569</td>\n",
       "      <td id=\"T_bcc00_row6_col5\" class=\"data row6 col5\" >0.1833</td>\n",
       "      <td id=\"T_bcc00_row6_col6\" class=\"data row6 col6\" >0.2052</td>\n",
       "    </tr>\n",
       "    <tr>\n",
       "      <th id=\"T_bcc00_level0_row7\" class=\"row_heading level0 row7\" >7</th>\n",
       "      <td id=\"T_bcc00_row7_col0\" class=\"data row7 col0\" >0.6012</td>\n",
       "      <td id=\"T_bcc00_row7_col1\" class=\"data row7 col1\" >0.5914</td>\n",
       "      <td id=\"T_bcc00_row7_col2\" class=\"data row7 col2\" >0.3683</td>\n",
       "      <td id=\"T_bcc00_row7_col3\" class=\"data row7 col3\" >0.6452</td>\n",
       "      <td id=\"T_bcc00_row7_col4\" class=\"data row7 col4\" >0.4689</td>\n",
       "      <td id=\"T_bcc00_row7_col5\" class=\"data row7 col5\" >0.1862</td>\n",
       "      <td id=\"T_bcc00_row7_col6\" class=\"data row7 col6\" >0.2050</td>\n",
       "    </tr>\n",
       "    <tr>\n",
       "      <th id=\"T_bcc00_level0_row8\" class=\"row_heading level0 row8\" >8</th>\n",
       "      <td id=\"T_bcc00_row8_col0\" class=\"data row8 col0\" >0.5995</td>\n",
       "      <td id=\"T_bcc00_row8_col1\" class=\"data row8 col1\" >0.5889</td>\n",
       "      <td id=\"T_bcc00_row8_col2\" class=\"data row8 col2\" >0.3481</td>\n",
       "      <td id=\"T_bcc00_row8_col3\" class=\"data row8 col3\" >0.6517</td>\n",
       "      <td id=\"T_bcc00_row8_col4\" class=\"data row8 col4\" >0.4538</td>\n",
       "      <td id=\"T_bcc00_row8_col5\" class=\"data row8 col5\" >0.1813</td>\n",
       "      <td id=\"T_bcc00_row8_col6\" class=\"data row8 col6\" >0.2036</td>\n",
       "    </tr>\n",
       "    <tr>\n",
       "      <th id=\"T_bcc00_level0_row9\" class=\"row_heading level0 row9\" >9</th>\n",
       "      <td id=\"T_bcc00_row9_col0\" class=\"data row9 col0\" >0.5885</td>\n",
       "      <td id=\"T_bcc00_row9_col1\" class=\"data row9 col1\" >0.5788</td>\n",
       "      <td id=\"T_bcc00_row9_col2\" class=\"data row9 col2\" >0.3616</td>\n",
       "      <td id=\"T_bcc00_row9_col3\" class=\"data row9 col3\" >0.6183</td>\n",
       "      <td id=\"T_bcc00_row9_col4\" class=\"data row9 col4\" >0.4563</td>\n",
       "      <td id=\"T_bcc00_row9_col5\" class=\"data row9 col5\" >0.1604</td>\n",
       "      <td id=\"T_bcc00_row9_col6\" class=\"data row9 col6\" >0.1754</td>\n",
       "    </tr>\n",
       "    <tr>\n",
       "      <th id=\"T_bcc00_level0_row10\" class=\"row_heading level0 row10\" >Mean</th>\n",
       "      <td id=\"T_bcc00_row10_col0\" class=\"data row10 col0\" >0.5956</td>\n",
       "      <td id=\"T_bcc00_row10_col1\" class=\"data row10 col1\" >0.5856</td>\n",
       "      <td id=\"T_bcc00_row10_col2\" class=\"data row10 col2\" >0.3647</td>\n",
       "      <td id=\"T_bcc00_row10_col3\" class=\"data row10 col3\" >0.6332</td>\n",
       "      <td id=\"T_bcc00_row10_col4\" class=\"data row10 col4\" >0.4625</td>\n",
       "      <td id=\"T_bcc00_row10_col5\" class=\"data row10 col5\" >0.1744</td>\n",
       "      <td id=\"T_bcc00_row10_col6\" class=\"data row10 col6\" >0.1917</td>\n",
       "    </tr>\n",
       "    <tr>\n",
       "      <th id=\"T_bcc00_level0_row11\" class=\"row_heading level0 row11\" >Std</th>\n",
       "      <td id=\"T_bcc00_row11_col0\" class=\"data row11 col0\" >0.0117</td>\n",
       "      <td id=\"T_bcc00_row11_col1\" class=\"data row11 col1\" >0.0118</td>\n",
       "      <td id=\"T_bcc00_row11_col2\" class=\"data row11 col2\" >0.0197</td>\n",
       "      <td id=\"T_bcc00_row11_col3\" class=\"data row11 col3\" >0.0227</td>\n",
       "      <td id=\"T_bcc00_row11_col4\" class=\"data row11 col4\" >0.0184</td>\n",
       "      <td id=\"T_bcc00_row11_col5\" class=\"data row11 col5\" >0.0240</td>\n",
       "      <td id=\"T_bcc00_row11_col6\" class=\"data row11 col6\" >0.0264</td>\n",
       "    </tr>\n",
       "  </tbody>\n",
       "</table>\n"
      ],
      "text/plain": [
       "<pandas.io.formats.style.Styler at 0x285501695a0>"
      ]
     },
     "metadata": {},
     "output_type": "display_data"
    },
    {
     "data": {
      "text/html": [],
      "text/plain": [
       "<IPython.core.display.HTML object>"
      ]
     },
     "metadata": {},
     "output_type": "display_data"
    },
    {
     "name": "stdout",
     "output_type": "stream",
     "text": [
      "Fitting 10 folds for each of 5 candidates, totalling 50 fits\n"
     ]
    }
   ],
   "source": [
    "ada_clf_tuned = pycc.tune_model(ada_clf, n_iter = 5)"
   ]
  },
  {
   "cell_type": "code",
   "execution_count": 22,
   "id": "57233b05",
   "metadata": {},
   "outputs": [
    {
     "data": {
      "text/html": [],
      "text/plain": [
       "<IPython.core.display.HTML object>"
      ]
     },
     "metadata": {},
     "output_type": "display_data"
    },
    {
     "data": {
      "text/html": [
       "<style type=\"text/css\">\n",
       "#T_8c5ba_row10_col0, #T_8c5ba_row10_col1, #T_8c5ba_row10_col2, #T_8c5ba_row10_col3, #T_8c5ba_row10_col4, #T_8c5ba_row10_col5, #T_8c5ba_row10_col6 {\n",
       "  background: yellow;\n",
       "}\n",
       "</style>\n",
       "<table id=\"T_8c5ba\">\n",
       "  <thead>\n",
       "    <tr>\n",
       "      <th class=\"blank level0\" >&nbsp;</th>\n",
       "      <th id=\"T_8c5ba_level0_col0\" class=\"col_heading level0 col0\" >Accuracy</th>\n",
       "      <th id=\"T_8c5ba_level0_col1\" class=\"col_heading level0 col1\" >AUC</th>\n",
       "      <th id=\"T_8c5ba_level0_col2\" class=\"col_heading level0 col2\" >Recall</th>\n",
       "      <th id=\"T_8c5ba_level0_col3\" class=\"col_heading level0 col3\" >Prec.</th>\n",
       "      <th id=\"T_8c5ba_level0_col4\" class=\"col_heading level0 col4\" >F1</th>\n",
       "      <th id=\"T_8c5ba_level0_col5\" class=\"col_heading level0 col5\" >Kappa</th>\n",
       "      <th id=\"T_8c5ba_level0_col6\" class=\"col_heading level0 col6\" >MCC</th>\n",
       "    </tr>\n",
       "    <tr>\n",
       "      <th class=\"index_name level0\" >Fold</th>\n",
       "      <th class=\"blank col0\" >&nbsp;</th>\n",
       "      <th class=\"blank col1\" >&nbsp;</th>\n",
       "      <th class=\"blank col2\" >&nbsp;</th>\n",
       "      <th class=\"blank col3\" >&nbsp;</th>\n",
       "      <th class=\"blank col4\" >&nbsp;</th>\n",
       "      <th class=\"blank col5\" >&nbsp;</th>\n",
       "      <th class=\"blank col6\" >&nbsp;</th>\n",
       "    </tr>\n",
       "  </thead>\n",
       "  <tbody>\n",
       "    <tr>\n",
       "      <th id=\"T_8c5ba_level0_row0\" class=\"row_heading level0 row0\" >0</th>\n",
       "      <td id=\"T_8c5ba_row0_col0\" class=\"data row0 col0\" >0.5766</td>\n",
       "      <td id=\"T_8c5ba_row0_col1\" class=\"data row0 col1\" >0.5666</td>\n",
       "      <td id=\"T_8c5ba_row0_col2\" class=\"data row0 col2\" >0.3487</td>\n",
       "      <td id=\"T_8c5ba_row0_col3\" class=\"data row0 col3\" >0.5962</td>\n",
       "      <td id=\"T_8c5ba_row0_col4\" class=\"data row0 col4\" >0.4400</td>\n",
       "      <td id=\"T_8c5ba_row0_col5\" class=\"data row0 col5\" >0.1357</td>\n",
       "      <td id=\"T_8c5ba_row0_col6\" class=\"data row0 col6\" >0.1484</td>\n",
       "    </tr>\n",
       "    <tr>\n",
       "      <th id=\"T_8c5ba_level0_row1\" class=\"row_heading level0 row1\" >1</th>\n",
       "      <td id=\"T_8c5ba_row1_col0\" class=\"data row1 col0\" >0.5942</td>\n",
       "      <td id=\"T_8c5ba_row1_col1\" class=\"data row1 col1\" >0.5838</td>\n",
       "      <td id=\"T_8c5ba_row1_col2\" class=\"data row1 col2\" >0.3579</td>\n",
       "      <td id=\"T_8c5ba_row1_col3\" class=\"data row1 col3\" >0.6319</td>\n",
       "      <td id=\"T_8c5ba_row1_col4\" class=\"data row1 col4\" >0.4570</td>\n",
       "      <td id=\"T_8c5ba_row1_col5\" class=\"data row1 col5\" >0.1709</td>\n",
       "      <td id=\"T_8c5ba_row1_col6\" class=\"data row1 col6\" >0.1886</td>\n",
       "    </tr>\n",
       "    <tr>\n",
       "      <th id=\"T_8c5ba_level0_row2\" class=\"row_heading level0 row2\" >2</th>\n",
       "      <td id=\"T_8c5ba_row2_col0\" class=\"data row2 col0\" >0.6224</td>\n",
       "      <td id=\"T_8c5ba_row2_col1\" class=\"data row2 col1\" >0.6127</td>\n",
       "      <td id=\"T_8c5ba_row2_col2\" class=\"data row2 col2\" >0.4022</td>\n",
       "      <td id=\"T_8c5ba_row2_col3\" class=\"data row2 col3\" >0.6749</td>\n",
       "      <td id=\"T_8c5ba_row2_col4\" class=\"data row2 col4\" >0.5040</td>\n",
       "      <td id=\"T_8c5ba_row2_col5\" class=\"data row2 col5\" >0.2295</td>\n",
       "      <td id=\"T_8c5ba_row2_col6\" class=\"data row2 col6\" >0.2496</td>\n",
       "    </tr>\n",
       "    <tr>\n",
       "      <th id=\"T_8c5ba_level0_row3\" class=\"row_heading level0 row3\" >3</th>\n",
       "      <td id=\"T_8c5ba_row3_col0\" class=\"data row3 col0\" >0.5827</td>\n",
       "      <td id=\"T_8c5ba_row3_col1\" class=\"data row3 col1\" >0.5731</td>\n",
       "      <td id=\"T_8c5ba_row3_col2\" class=\"data row3 col2\" >0.3635</td>\n",
       "      <td id=\"T_8c5ba_row3_col3\" class=\"data row3 col3\" >0.6043</td>\n",
       "      <td id=\"T_8c5ba_row3_col4\" class=\"data row3 col4\" >0.4539</td>\n",
       "      <td id=\"T_8c5ba_row3_col5\" class=\"data row3 col5\" >0.1489</td>\n",
       "      <td id=\"T_8c5ba_row3_col6\" class=\"data row3 col6\" >0.1615</td>\n",
       "    </tr>\n",
       "    <tr>\n",
       "      <th id=\"T_8c5ba_level0_row4\" class=\"row_heading level0 row4\" >4</th>\n",
       "      <td id=\"T_8c5ba_row4_col0\" class=\"data row4 col0\" >0.5977</td>\n",
       "      <td id=\"T_8c5ba_row4_col1\" class=\"data row4 col1\" >0.5891</td>\n",
       "      <td id=\"T_8c5ba_row4_col2\" class=\"data row4 col2\" >0.4004</td>\n",
       "      <td id=\"T_8c5ba_row4_col3\" class=\"data row4 col3\" >0.6218</td>\n",
       "      <td id=\"T_8c5ba_row4_col4\" class=\"data row4 col4\" >0.4871</td>\n",
       "      <td id=\"T_8c5ba_row4_col5\" class=\"data row4 col5\" >0.1810</td>\n",
       "      <td id=\"T_8c5ba_row4_col6\" class=\"data row4 col6\" >0.1929</td>\n",
       "    </tr>\n",
       "    <tr>\n",
       "      <th id=\"T_8c5ba_level0_row5\" class=\"row_heading level0 row5\" >5</th>\n",
       "      <td id=\"T_8c5ba_row5_col0\" class=\"data row5 col0\" >0.5924</td>\n",
       "      <td id=\"T_8c5ba_row5_col1\" class=\"data row5 col1\" >0.5820</td>\n",
       "      <td id=\"T_8c5ba_row5_col2\" class=\"data row5 col2\" >0.3444</td>\n",
       "      <td id=\"T_8c5ba_row5_col3\" class=\"data row5 col3\" >0.6361</td>\n",
       "      <td id=\"T_8c5ba_row5_col4\" class=\"data row5 col4\" >0.4468</td>\n",
       "      <td id=\"T_8c5ba_row5_col5\" class=\"data row5 col5\" >0.1672</td>\n",
       "      <td id=\"T_8c5ba_row5_col6\" class=\"data row5 col6\" >0.1870</td>\n",
       "    </tr>\n",
       "    <tr>\n",
       "      <th id=\"T_8c5ba_level0_row6\" class=\"row_heading level0 row6\" >6</th>\n",
       "      <td id=\"T_8c5ba_row6_col0\" class=\"data row6 col0\" >0.6004</td>\n",
       "      <td id=\"T_8c5ba_row6_col1\" class=\"data row6 col1\" >0.5899</td>\n",
       "      <td id=\"T_8c5ba_row6_col2\" class=\"data row6 col2\" >0.3517</td>\n",
       "      <td id=\"T_8c5ba_row6_col3\" class=\"data row6 col3\" >0.6519</td>\n",
       "      <td id=\"T_8c5ba_row6_col4\" class=\"data row6 col4\" >0.4569</td>\n",
       "      <td id=\"T_8c5ba_row6_col5\" class=\"data row6 col5\" >0.1833</td>\n",
       "      <td id=\"T_8c5ba_row6_col6\" class=\"data row6 col6\" >0.2052</td>\n",
       "    </tr>\n",
       "    <tr>\n",
       "      <th id=\"T_8c5ba_level0_row7\" class=\"row_heading level0 row7\" >7</th>\n",
       "      <td id=\"T_8c5ba_row7_col0\" class=\"data row7 col0\" >0.6012</td>\n",
       "      <td id=\"T_8c5ba_row7_col1\" class=\"data row7 col1\" >0.5914</td>\n",
       "      <td id=\"T_8c5ba_row7_col2\" class=\"data row7 col2\" >0.3683</td>\n",
       "      <td id=\"T_8c5ba_row7_col3\" class=\"data row7 col3\" >0.6452</td>\n",
       "      <td id=\"T_8c5ba_row7_col4\" class=\"data row7 col4\" >0.4689</td>\n",
       "      <td id=\"T_8c5ba_row7_col5\" class=\"data row7 col5\" >0.1862</td>\n",
       "      <td id=\"T_8c5ba_row7_col6\" class=\"data row7 col6\" >0.2050</td>\n",
       "    </tr>\n",
       "    <tr>\n",
       "      <th id=\"T_8c5ba_level0_row8\" class=\"row_heading level0 row8\" >8</th>\n",
       "      <td id=\"T_8c5ba_row8_col0\" class=\"data row8 col0\" >0.5995</td>\n",
       "      <td id=\"T_8c5ba_row8_col1\" class=\"data row8 col1\" >0.5889</td>\n",
       "      <td id=\"T_8c5ba_row8_col2\" class=\"data row8 col2\" >0.3481</td>\n",
       "      <td id=\"T_8c5ba_row8_col3\" class=\"data row8 col3\" >0.6517</td>\n",
       "      <td id=\"T_8c5ba_row8_col4\" class=\"data row8 col4\" >0.4538</td>\n",
       "      <td id=\"T_8c5ba_row8_col5\" class=\"data row8 col5\" >0.1813</td>\n",
       "      <td id=\"T_8c5ba_row8_col6\" class=\"data row8 col6\" >0.2036</td>\n",
       "    </tr>\n",
       "    <tr>\n",
       "      <th id=\"T_8c5ba_level0_row9\" class=\"row_heading level0 row9\" >9</th>\n",
       "      <td id=\"T_8c5ba_row9_col0\" class=\"data row9 col0\" >0.5885</td>\n",
       "      <td id=\"T_8c5ba_row9_col1\" class=\"data row9 col1\" >0.5788</td>\n",
       "      <td id=\"T_8c5ba_row9_col2\" class=\"data row9 col2\" >0.3616</td>\n",
       "      <td id=\"T_8c5ba_row9_col3\" class=\"data row9 col3\" >0.6183</td>\n",
       "      <td id=\"T_8c5ba_row9_col4\" class=\"data row9 col4\" >0.4563</td>\n",
       "      <td id=\"T_8c5ba_row9_col5\" class=\"data row9 col5\" >0.1604</td>\n",
       "      <td id=\"T_8c5ba_row9_col6\" class=\"data row9 col6\" >0.1754</td>\n",
       "    </tr>\n",
       "    <tr>\n",
       "      <th id=\"T_8c5ba_level0_row10\" class=\"row_heading level0 row10\" >Mean</th>\n",
       "      <td id=\"T_8c5ba_row10_col0\" class=\"data row10 col0\" >0.5956</td>\n",
       "      <td id=\"T_8c5ba_row10_col1\" class=\"data row10 col1\" >0.5856</td>\n",
       "      <td id=\"T_8c5ba_row10_col2\" class=\"data row10 col2\" >0.3647</td>\n",
       "      <td id=\"T_8c5ba_row10_col3\" class=\"data row10 col3\" >0.6332</td>\n",
       "      <td id=\"T_8c5ba_row10_col4\" class=\"data row10 col4\" >0.4625</td>\n",
       "      <td id=\"T_8c5ba_row10_col5\" class=\"data row10 col5\" >0.1744</td>\n",
       "      <td id=\"T_8c5ba_row10_col6\" class=\"data row10 col6\" >0.1917</td>\n",
       "    </tr>\n",
       "    <tr>\n",
       "      <th id=\"T_8c5ba_level0_row11\" class=\"row_heading level0 row11\" >Std</th>\n",
       "      <td id=\"T_8c5ba_row11_col0\" class=\"data row11 col0\" >0.0117</td>\n",
       "      <td id=\"T_8c5ba_row11_col1\" class=\"data row11 col1\" >0.0118</td>\n",
       "      <td id=\"T_8c5ba_row11_col2\" class=\"data row11 col2\" >0.0197</td>\n",
       "      <td id=\"T_8c5ba_row11_col3\" class=\"data row11 col3\" >0.0227</td>\n",
       "      <td id=\"T_8c5ba_row11_col4\" class=\"data row11 col4\" >0.0184</td>\n",
       "      <td id=\"T_8c5ba_row11_col5\" class=\"data row11 col5\" >0.0240</td>\n",
       "      <td id=\"T_8c5ba_row11_col6\" class=\"data row11 col6\" >0.0264</td>\n",
       "    </tr>\n",
       "  </tbody>\n",
       "</table>\n"
      ],
      "text/plain": [
       "<pandas.io.formats.style.Styler at 0x2854d651240>"
      ]
     },
     "metadata": {},
     "output_type": "display_data"
    },
    {
     "data": {
      "text/html": [],
      "text/plain": [
       "<IPython.core.display.HTML object>"
      ]
     },
     "metadata": {},
     "output_type": "display_data"
    },
    {
     "name": "stdout",
     "output_type": "stream",
     "text": [
      "Fitting 10 folds for each of 5 candidates, totalling 50 fits\n"
     ]
    }
   ],
   "source": [
    "ada_clf_tuned_better_tuner = pycc.tune_model(ada_clf,n_iter = 5, \n",
    "                                            return_tuner=True,\n",
    "                                            choose_better = True)"
   ]
  },
  {
   "cell_type": "code",
   "execution_count": 27,
   "id": "b3d78171",
   "metadata": {},
   "outputs": [
    {
     "data": {
      "text/html": [
       "<style>#sk-container-id-1 {color: black;background-color: white;}#sk-container-id-1 pre{padding: 0;}#sk-container-id-1 div.sk-toggleable {background-color: white;}#sk-container-id-1 label.sk-toggleable__label {cursor: pointer;display: block;width: 100%;margin-bottom: 0;padding: 0.3em;box-sizing: border-box;text-align: center;}#sk-container-id-1 label.sk-toggleable__label-arrow:before {content: \"▸\";float: left;margin-right: 0.25em;color: #696969;}#sk-container-id-1 label.sk-toggleable__label-arrow:hover:before {color: black;}#sk-container-id-1 div.sk-estimator:hover label.sk-toggleable__label-arrow:before {color: black;}#sk-container-id-1 div.sk-toggleable__content {max-height: 0;max-width: 0;overflow: hidden;text-align: left;background-color: #f0f8ff;}#sk-container-id-1 div.sk-toggleable__content pre {margin: 0.2em;color: black;border-radius: 0.25em;background-color: #f0f8ff;}#sk-container-id-1 input.sk-toggleable__control:checked~div.sk-toggleable__content {max-height: 200px;max-width: 100%;overflow: auto;}#sk-container-id-1 input.sk-toggleable__control:checked~label.sk-toggleable__label-arrow:before {content: \"▾\";}#sk-container-id-1 div.sk-estimator input.sk-toggleable__control:checked~label.sk-toggleable__label {background-color: #d4ebff;}#sk-container-id-1 div.sk-label input.sk-toggleable__control:checked~label.sk-toggleable__label {background-color: #d4ebff;}#sk-container-id-1 input.sk-hidden--visually {border: 0;clip: rect(1px 1px 1px 1px);clip: rect(1px, 1px, 1px, 1px);height: 1px;margin: -1px;overflow: hidden;padding: 0;position: absolute;width: 1px;}#sk-container-id-1 div.sk-estimator {font-family: monospace;background-color: #f0f8ff;border: 1px dotted black;border-radius: 0.25em;box-sizing: border-box;margin-bottom: 0.5em;}#sk-container-id-1 div.sk-estimator:hover {background-color: #d4ebff;}#sk-container-id-1 div.sk-parallel-item::after {content: \"\";width: 100%;border-bottom: 1px solid gray;flex-grow: 1;}#sk-container-id-1 div.sk-label:hover label.sk-toggleable__label {background-color: #d4ebff;}#sk-container-id-1 div.sk-serial::before {content: \"\";position: absolute;border-left: 1px solid gray;box-sizing: border-box;top: 0;bottom: 0;left: 50%;z-index: 0;}#sk-container-id-1 div.sk-serial {display: flex;flex-direction: column;align-items: center;background-color: white;padding-right: 0.2em;padding-left: 0.2em;position: relative;}#sk-container-id-1 div.sk-item {position: relative;z-index: 1;}#sk-container-id-1 div.sk-parallel {display: flex;align-items: stretch;justify-content: center;background-color: white;position: relative;}#sk-container-id-1 div.sk-item::before, #sk-container-id-1 div.sk-parallel-item::before {content: \"\";position: absolute;border-left: 1px solid gray;box-sizing: border-box;top: 0;bottom: 0;left: 50%;z-index: -1;}#sk-container-id-1 div.sk-parallel-item {display: flex;flex-direction: column;z-index: 1;position: relative;background-color: white;}#sk-container-id-1 div.sk-parallel-item:first-child::after {align-self: flex-end;width: 50%;}#sk-container-id-1 div.sk-parallel-item:last-child::after {align-self: flex-start;width: 50%;}#sk-container-id-1 div.sk-parallel-item:only-child::after {width: 0;}#sk-container-id-1 div.sk-dashed-wrapped {border: 1px dashed gray;margin: 0 0.4em 0.5em 0.4em;box-sizing: border-box;padding-bottom: 0.4em;background-color: white;}#sk-container-id-1 div.sk-label label {font-family: monospace;font-weight: bold;display: inline-block;line-height: 1.2em;}#sk-container-id-1 div.sk-label-container {text-align: center;}#sk-container-id-1 div.sk-container {/* jupyter's `normalize.less` sets `[hidden] { display: none; }` but bootstrap.min.css set `[hidden] { display: none !important; }` so we also need the `!important` here to be able to override the default hidden behavior on the sphinx rendered scikit-learn.org. See: https://github.com/scikit-learn/scikit-learn/issues/21755 */display: inline-block !important;position: relative;}#sk-container-id-1 div.sk-text-repr-fallback {display: none;}</style><div id=\"sk-container-id-1\" class=\"sk-top-container\"><div class=\"sk-text-repr-fallback\"><pre>AdaBoostClassifier(algorithm=&#x27;SAMME.R&#x27;, base_estimator=&#x27;deprecated&#x27;,\n",
       "                   estimator=None, learning_rate=1.0, n_estimators=50,\n",
       "                   random_state=3623)</pre><b>In a Jupyter environment, please rerun this cell to show the HTML representation or trust the notebook. <br />On GitHub, the HTML representation is unable to render, please try loading this page with nbviewer.org.</b></div><div class=\"sk-container\" hidden><div class=\"sk-item\"><div class=\"sk-estimator sk-toggleable\"><input class=\"sk-toggleable__control sk-hidden--visually\" id=\"sk-estimator-id-1\" type=\"checkbox\" checked><label for=\"sk-estimator-id-1\" class=\"sk-toggleable__label sk-toggleable__label-arrow\">AdaBoostClassifier</label><div class=\"sk-toggleable__content\"><pre>AdaBoostClassifier(algorithm=&#x27;SAMME.R&#x27;, base_estimator=&#x27;deprecated&#x27;,\n",
       "                   estimator=None, learning_rate=1.0, n_estimators=50,\n",
       "                   random_state=3623)</pre></div></div></div></div></div>"
      ],
      "text/plain": [
       "AdaBoostClassifier(algorithm='SAMME.R', base_estimator='deprecated',\n",
       "                   estimator=None, learning_rate=1.0, n_estimators=50,\n",
       "                   random_state=3623)"
      ]
     },
     "execution_count": 27,
     "metadata": {},
     "output_type": "execute_result"
    }
   ],
   "source": [
    "ada_clf"
   ]
  },
  {
   "cell_type": "code",
   "execution_count": null,
   "id": "841d4d8c",
   "metadata": {},
   "outputs": [],
   "source": [
    "ada_clf_tuned_better_results = pycc.pull()"
   ]
  },
  {
   "cell_type": "code",
   "execution_count": 25,
   "id": "73812e95",
   "metadata": {},
   "outputs": [
    {
     "data": {
      "text/html": [
       "<pre style=\"white-space:pre;overflow-x:auto;line-height:normal;font-family:Menlo,'DejaVu Sans Mono',consolas,'Courier New',monospace\"><span style=\"color: #7fbfbf; text-decoration-color: #7fbfbf\">[04/08/23 02:46:29] </span><span style=\"color: #000080; text-decoration-color: #000080\">INFO    </span> Loading data from <span style=\"color: #008000; text-decoration-color: #008000\">'data_test'</span> <span style=\"font-weight: bold\">(</span>ParquetDataSet<span style=\"font-weight: bold\">)</span><span style=\"color: #808000; text-decoration-color: #808000\">...</span>                  <span style=\"color: #7f7f7f; text-decoration-color: #7f7f7f\">data_catalog.py:343</span>\n",
       "</pre>\n"
      ],
      "text/plain": [
       "\u001b[2;36m[04/08/23 02:46:29]\u001b[0m\u001b[2;36m \u001b[0m\u001b[34mINFO    \u001b[0m Loading data from \u001b[32m'data_test'\u001b[0m \u001b[1m(\u001b[0mParquetDataSet\u001b[1m)\u001b[0m\u001b[33m...\u001b[0m                  \u001b[2mdata_catalog.py\u001b[0m\u001b[2m:\u001b[0m\u001b[2m343\u001b[0m\n"
      ]
     },
     "metadata": {},
     "output_type": "display_data"
    },
    {
     "data": {
      "text/html": [
       "<style type=\"text/css\">\n",
       "</style>\n",
       "<table id=\"T_028ef\">\n",
       "  <thead>\n",
       "    <tr>\n",
       "      <th class=\"blank level0\" >&nbsp;</th>\n",
       "      <th id=\"T_028ef_level0_col0\" class=\"col_heading level0 col0\" >Model</th>\n",
       "      <th id=\"T_028ef_level0_col1\" class=\"col_heading level0 col1\" >Accuracy</th>\n",
       "      <th id=\"T_028ef_level0_col2\" class=\"col_heading level0 col2\" >AUC</th>\n",
       "      <th id=\"T_028ef_level0_col3\" class=\"col_heading level0 col3\" >Recall</th>\n",
       "      <th id=\"T_028ef_level0_col4\" class=\"col_heading level0 col4\" >Prec.</th>\n",
       "      <th id=\"T_028ef_level0_col5\" class=\"col_heading level0 col5\" >F1</th>\n",
       "      <th id=\"T_028ef_level0_col6\" class=\"col_heading level0 col6\" >Kappa</th>\n",
       "      <th id=\"T_028ef_level0_col7\" class=\"col_heading level0 col7\" >MCC</th>\n",
       "    </tr>\n",
       "  </thead>\n",
       "  <tbody>\n",
       "    <tr>\n",
       "      <th id=\"T_028ef_level0_row0\" class=\"row_heading level0 row0\" >0</th>\n",
       "      <td id=\"T_028ef_row0_col0\" class=\"data row0 col0\" >str</td>\n",
       "      <td id=\"T_028ef_row0_col1\" class=\"data row0 col1\" >0.5953</td>\n",
       "      <td id=\"T_028ef_row0_col2\" class=\"data row0 col2\" >0.5976</td>\n",
       "      <td id=\"T_028ef_row0_col3\" class=\"data row0 col3\" >0.3930</td>\n",
       "      <td id=\"T_028ef_row0_col4\" class=\"data row0 col4\" >0.6189</td>\n",
       "      <td id=\"T_028ef_row0_col5\" class=\"data row0 col5\" >0.4807</td>\n",
       "      <td id=\"T_028ef_row0_col6\" class=\"data row0 col6\" >0.1754</td>\n",
       "      <td id=\"T_028ef_row0_col7\" class=\"data row0 col7\" >0.1876</td>\n",
       "    </tr>\n",
       "  </tbody>\n",
       "</table>\n"
      ],
      "text/plain": [
       "<pandas.io.formats.style.Styler at 0x28552005630>"
      ]
     },
     "metadata": {},
     "output_type": "display_data"
    },
    {
     "data": {
      "text/html": [
       "<div>\n",
       "<style scoped>\n",
       "    .dataframe tbody tr th:only-of-type {\n",
       "        vertical-align: middle;\n",
       "    }\n",
       "\n",
       "    .dataframe tbody tr th {\n",
       "        vertical-align: top;\n",
       "    }\n",
       "\n",
       "    .dataframe thead th {\n",
       "        text-align: right;\n",
       "    }\n",
       "</style>\n",
       "<table border=\"1\" class=\"dataframe\">\n",
       "  <thead>\n",
       "    <tr style=\"text-align: right;\">\n",
       "      <th></th>\n",
       "      <th>lat</th>\n",
       "      <th>lon</th>\n",
       "      <th>minutes_remaining</th>\n",
       "      <th>period</th>\n",
       "      <th>playoffs</th>\n",
       "      <th>shot_distance</th>\n",
       "      <th>shot_made_flag</th>\n",
       "      <th>prediction_label</th>\n",
       "      <th>prediction_score_0</th>\n",
       "      <th>prediction_score_1</th>\n",
       "    </tr>\n",
       "  </thead>\n",
       "  <tbody>\n",
       "    <tr>\n",
       "      <th>6631</th>\n",
       "      <td>34.036301</td>\n",
       "      <td>-118.302803</td>\n",
       "      <td>8</td>\n",
       "      <td>2</td>\n",
       "      <td>0</td>\n",
       "      <td>3</td>\n",
       "      <td>0.0</td>\n",
       "      <td>0</td>\n",
       "      <td>0.5011</td>\n",
       "      <td>0.4989</td>\n",
       "    </tr>\n",
       "    <tr>\n",
       "      <th>10543</th>\n",
       "      <td>34.024300</td>\n",
       "      <td>-118.287804</td>\n",
       "      <td>6</td>\n",
       "      <td>4</td>\n",
       "      <td>0</td>\n",
       "      <td>2</td>\n",
       "      <td>1.0</td>\n",
       "      <td>1</td>\n",
       "      <td>0.4975</td>\n",
       "      <td>0.5025</td>\n",
       "    </tr>\n",
       "    <tr>\n",
       "      <th>12944</th>\n",
       "      <td>34.044300</td>\n",
       "      <td>-118.269798</td>\n",
       "      <td>7</td>\n",
       "      <td>2</td>\n",
       "      <td>0</td>\n",
       "      <td>0</td>\n",
       "      <td>0.0</td>\n",
       "      <td>1</td>\n",
       "      <td>0.4965</td>\n",
       "      <td>0.5035</td>\n",
       "    </tr>\n",
       "    <tr>\n",
       "      <th>18074</th>\n",
       "      <td>34.007301</td>\n",
       "      <td>-118.169800</td>\n",
       "      <td>5</td>\n",
       "      <td>1</td>\n",
       "      <td>0</td>\n",
       "      <td>10</td>\n",
       "      <td>0.0</td>\n",
       "      <td>0</td>\n",
       "      <td>0.5008</td>\n",
       "      <td>0.4992</td>\n",
       "    </tr>\n",
       "    <tr>\n",
       "      <th>5033</th>\n",
       "      <td>33.903301</td>\n",
       "      <td>-118.129799</td>\n",
       "      <td>4</td>\n",
       "      <td>1</td>\n",
       "      <td>0</td>\n",
       "      <td>19</td>\n",
       "      <td>1.0</td>\n",
       "      <td>0</td>\n",
       "      <td>0.5019</td>\n",
       "      <td>0.4981</td>\n",
       "    </tr>\n",
       "    <tr>\n",
       "      <th>...</th>\n",
       "      <td>...</td>\n",
       "      <td>...</td>\n",
       "      <td>...</td>\n",
       "      <td>...</td>\n",
       "      <td>...</td>\n",
       "      <td>...</td>\n",
       "      <td>...</td>\n",
       "      <td>...</td>\n",
       "      <td>...</td>\n",
       "      <td>...</td>\n",
       "    </tr>\n",
       "    <tr>\n",
       "      <th>3952</th>\n",
       "      <td>34.044300</td>\n",
       "      <td>-118.269798</td>\n",
       "      <td>9</td>\n",
       "      <td>2</td>\n",
       "      <td>0</td>\n",
       "      <td>0</td>\n",
       "      <td>1.0</td>\n",
       "      <td>1</td>\n",
       "      <td>0.4968</td>\n",
       "      <td>0.5032</td>\n",
       "    </tr>\n",
       "    <tr>\n",
       "      <th>100</th>\n",
       "      <td>33.894299</td>\n",
       "      <td>-118.245796</td>\n",
       "      <td>9</td>\n",
       "      <td>3</td>\n",
       "      <td>0</td>\n",
       "      <td>15</td>\n",
       "      <td>0.0</td>\n",
       "      <td>0</td>\n",
       "      <td>0.5006</td>\n",
       "      <td>0.4994</td>\n",
       "    </tr>\n",
       "    <tr>\n",
       "      <th>30058</th>\n",
       "      <td>34.044300</td>\n",
       "      <td>-118.269798</td>\n",
       "      <td>7</td>\n",
       "      <td>4</td>\n",
       "      <td>1</td>\n",
       "      <td>0</td>\n",
       "      <td>1.0</td>\n",
       "      <td>1</td>\n",
       "      <td>0.4970</td>\n",
       "      <td>0.5030</td>\n",
       "    </tr>\n",
       "    <tr>\n",
       "      <th>24039</th>\n",
       "      <td>33.955299</td>\n",
       "      <td>-118.268799</td>\n",
       "      <td>11</td>\n",
       "      <td>2</td>\n",
       "      <td>0</td>\n",
       "      <td>8</td>\n",
       "      <td>0.0</td>\n",
       "      <td>0</td>\n",
       "      <td>0.5010</td>\n",
       "      <td>0.4990</td>\n",
       "    </tr>\n",
       "    <tr>\n",
       "      <th>725</th>\n",
       "      <td>34.044300</td>\n",
       "      <td>-118.269798</td>\n",
       "      <td>3</td>\n",
       "      <td>2</td>\n",
       "      <td>0</td>\n",
       "      <td>0</td>\n",
       "      <td>1.0</td>\n",
       "      <td>1</td>\n",
       "      <td>0.4970</td>\n",
       "      <td>0.5030</td>\n",
       "    </tr>\n",
       "  </tbody>\n",
       "</table>\n",
       "<p>4057 rows × 10 columns</p>\n",
       "</div>"
      ],
      "text/plain": [
       "             lat         lon  minutes_remaining  period  playoffs  \\\n",
       "6631   34.036301 -118.302803                  8       2         0   \n",
       "10543  34.024300 -118.287804                  6       4         0   \n",
       "12944  34.044300 -118.269798                  7       2         0   \n",
       "18074  34.007301 -118.169800                  5       1         0   \n",
       "5033   33.903301 -118.129799                  4       1         0   \n",
       "...          ...         ...                ...     ...       ...   \n",
       "3952   34.044300 -118.269798                  9       2         0   \n",
       "100    33.894299 -118.245796                  9       3         0   \n",
       "30058  34.044300 -118.269798                  7       4         1   \n",
       "24039  33.955299 -118.268799                 11       2         0   \n",
       "725    34.044300 -118.269798                  3       2         0   \n",
       "\n",
       "       shot_distance  shot_made_flag  prediction_label  prediction_score_0  \\\n",
       "6631               3             0.0                 0              0.5011   \n",
       "10543              2             1.0                 1              0.4975   \n",
       "12944              0             0.0                 1              0.4965   \n",
       "18074             10             0.0                 0              0.5008   \n",
       "5033              19             1.0                 0              0.5019   \n",
       "...              ...             ...               ...                 ...   \n",
       "3952               0             1.0                 1              0.4968   \n",
       "100               15             0.0                 0              0.5006   \n",
       "30058              0             1.0                 1              0.4970   \n",
       "24039              8             0.0                 0              0.5010   \n",
       "725                0             1.0                 1              0.4970   \n",
       "\n",
       "       prediction_score_1  \n",
       "6631               0.4989  \n",
       "10543              0.5025  \n",
       "12944              0.5035  \n",
       "18074              0.4992  \n",
       "5033               0.4981  \n",
       "...                   ...  \n",
       "3952               0.5032  \n",
       "100                0.4994  \n",
       "30058              0.5030  \n",
       "24039              0.4990  \n",
       "725                0.5030  \n",
       "\n",
       "[4057 rows x 10 columns]"
      ]
     },
     "execution_count": 25,
     "metadata": {},
     "output_type": "execute_result"
    }
   ],
   "source": [
    "stacked_clf_dynamic_pred_unseen = pycc.predict_model(ada_clf,\n",
    "                                                     raw_score = True,\n",
    "                                                     data = catalog.load('data_test'))\n",
    "\n",
    "stacked_clf_dynamic_pred_unseen"
   ]
  },
  {
   "cell_type": "code",
   "execution_count": 1,
   "id": "7605e9e8",
   "metadata": {},
   "outputs": [
    {
     "data": {
      "text/html": [
       "<pre style=\"white-space:pre;overflow-x:auto;line-height:normal;font-family:Menlo,'DejaVu Sans Mono',consolas,'Courier New',monospace\"><span style=\"color: #7fbfbf; text-decoration-color: #7fbfbf\">[04/08/23 23:22:05] </span><span style=\"color: #800000; text-decoration-color: #800000\">WARNING </span> Importing display from IPython.core.display is deprecated since        <a href=\"file://C:\\Users\\User\\AppData\\Local\\Programs\\Python\\Python310\\lib\\warnings.py\" target=\"_blank\"><span style=\"color: #7f7f7f; text-decoration-color: #7f7f7f\">warnings.py</span></a><span style=\"color: #7f7f7f; text-decoration-color: #7f7f7f\">:</span><a href=\"file://C:\\Users\\User\\AppData\\Local\\Programs\\Python\\Python310\\lib\\warnings.py#109\" target=\"_blank\"><span style=\"color: #7f7f7f; text-decoration-color: #7f7f7f\">109</span></a>\n",
       "<span style=\"color: #7fbfbf; text-decoration-color: #7fbfbf\">                    </span>         IPython <span style=\"color: #008080; text-decoration-color: #008080; font-weight: bold\">7.14</span>, please import from IPython display                       <span style=\"color: #7f7f7f; text-decoration-color: #7f7f7f\">               </span>\n",
       "<span style=\"color: #7fbfbf; text-decoration-color: #7fbfbf\">                    </span>                                                                                <span style=\"color: #7f7f7f; text-decoration-color: #7f7f7f\">               </span>\n",
       "</pre>\n"
      ],
      "text/plain": [
       "\u001b[2;36m[04/08/23 23:22:05]\u001b[0m\u001b[2;36m \u001b[0m\u001b[31mWARNING \u001b[0m Importing display from IPython.core.display is deprecated since        \u001b]8;id=802993;file://C:\\Users\\User\\AppData\\Local\\Programs\\Python\\Python310\\lib\\warnings.py\u001b\\\u001b[2mwarnings.py\u001b[0m\u001b]8;;\u001b\\\u001b[2m:\u001b[0m\u001b]8;id=515620;file://C:\\Users\\User\\AppData\\Local\\Programs\\Python\\Python310\\lib\\warnings.py#109\u001b\\\u001b[2m109\u001b[0m\u001b]8;;\u001b\\\n",
       "\u001b[2;36m                    \u001b[0m         IPython \u001b[1;36m7.14\u001b[0m, please import from IPython display                       \u001b[2m               \u001b[0m\n",
       "\u001b[2;36m                    \u001b[0m                                                                                \u001b[2m               \u001b[0m\n"
      ]
     },
     "metadata": {},
     "output_type": "display_data"
    },
    {
     "data": {
      "text/html": [
       "<pre style=\"white-space:pre;overflow-x:auto;line-height:normal;font-family:Menlo,'DejaVu Sans Mono',consolas,'Courier New',monospace\"><span style=\"color: #7fbfbf; text-decoration-color: #7fbfbf\">                    </span><span style=\"color: #800000; text-decoration-color: #800000\">WARNING </span> Importing display from IPython.core.display is deprecated since        <a href=\"file://C:\\Users\\User\\AppData\\Local\\Programs\\Python\\Python310\\lib\\warnings.py\" target=\"_blank\"><span style=\"color: #7f7f7f; text-decoration-color: #7f7f7f\">warnings.py</span></a><span style=\"color: #7f7f7f; text-decoration-color: #7f7f7f\">:</span><a href=\"file://C:\\Users\\User\\AppData\\Local\\Programs\\Python\\Python310\\lib\\warnings.py#109\" target=\"_blank\"><span style=\"color: #7f7f7f; text-decoration-color: #7f7f7f\">109</span></a>\n",
       "<span style=\"color: #7fbfbf; text-decoration-color: #7fbfbf\">                    </span>         IPython <span style=\"color: #008080; text-decoration-color: #008080; font-weight: bold\">7.14</span>, please import from IPython display                       <span style=\"color: #7f7f7f; text-decoration-color: #7f7f7f\">               </span>\n",
       "<span style=\"color: #7fbfbf; text-decoration-color: #7fbfbf\">                    </span>                                                                                <span style=\"color: #7f7f7f; text-decoration-color: #7f7f7f\">               </span>\n",
       "</pre>\n"
      ],
      "text/plain": [
       "\u001b[2;36m                   \u001b[0m\u001b[2;36m \u001b[0m\u001b[31mWARNING \u001b[0m Importing display from IPython.core.display is deprecated since        \u001b]8;id=798025;file://C:\\Users\\User\\AppData\\Local\\Programs\\Python\\Python310\\lib\\warnings.py\u001b\\\u001b[2mwarnings.py\u001b[0m\u001b]8;;\u001b\\\u001b[2m:\u001b[0m\u001b]8;id=561168;file://C:\\Users\\User\\AppData\\Local\\Programs\\Python\\Python310\\lib\\warnings.py#109\u001b\\\u001b[2m109\u001b[0m\u001b]8;;\u001b\\\n",
       "\u001b[2;36m                    \u001b[0m         IPython \u001b[1;36m7.14\u001b[0m, please import from IPython display                       \u001b[2m               \u001b[0m\n",
       "\u001b[2;36m                    \u001b[0m                                                                                \u001b[2m               \u001b[0m\n"
      ]
     },
     "metadata": {},
     "output_type": "display_data"
    },
    {
     "data": {
      "text/html": [
       "<pre style=\"white-space:pre;overflow-x:auto;line-height:normal;font-family:Menlo,'DejaVu Sans Mono',consolas,'Courier New',monospace\"><span style=\"color: #7fbfbf; text-decoration-color: #7fbfbf\">                    </span><span style=\"color: #800000; text-decoration-color: #800000\">WARNING </span> Importing display from IPython.core.display is deprecated since        <a href=\"file://C:\\Users\\User\\AppData\\Local\\Programs\\Python\\Python310\\lib\\warnings.py\" target=\"_blank\"><span style=\"color: #7f7f7f; text-decoration-color: #7f7f7f\">warnings.py</span></a><span style=\"color: #7f7f7f; text-decoration-color: #7f7f7f\">:</span><a href=\"file://C:\\Users\\User\\AppData\\Local\\Programs\\Python\\Python310\\lib\\warnings.py#109\" target=\"_blank\"><span style=\"color: #7f7f7f; text-decoration-color: #7f7f7f\">109</span></a>\n",
       "<span style=\"color: #7fbfbf; text-decoration-color: #7fbfbf\">                    </span>         IPython <span style=\"color: #008080; text-decoration-color: #008080; font-weight: bold\">7.14</span>, please import from IPython display                       <span style=\"color: #7f7f7f; text-decoration-color: #7f7f7f\">               </span>\n",
       "<span style=\"color: #7fbfbf; text-decoration-color: #7fbfbf\">                    </span>                                                                                <span style=\"color: #7f7f7f; text-decoration-color: #7f7f7f\">               </span>\n",
       "</pre>\n"
      ],
      "text/plain": [
       "\u001b[2;36m                   \u001b[0m\u001b[2;36m \u001b[0m\u001b[31mWARNING \u001b[0m Importing display from IPython.core.display is deprecated since        \u001b]8;id=414867;file://C:\\Users\\User\\AppData\\Local\\Programs\\Python\\Python310\\lib\\warnings.py\u001b\\\u001b[2mwarnings.py\u001b[0m\u001b]8;;\u001b\\\u001b[2m:\u001b[0m\u001b]8;id=917600;file://C:\\Users\\User\\AppData\\Local\\Programs\\Python\\Python310\\lib\\warnings.py#109\u001b\\\u001b[2m109\u001b[0m\u001b]8;;\u001b\\\n",
       "\u001b[2;36m                    \u001b[0m         IPython \u001b[1;36m7.14\u001b[0m, please import from IPython display                       \u001b[2m               \u001b[0m\n",
       "\u001b[2;36m                    \u001b[0m                                                                                \u001b[2m               \u001b[0m\n"
      ]
     },
     "metadata": {},
     "output_type": "display_data"
    }
   ],
   "source": [
    "import shap"
   ]
  },
  {
   "cell_type": "code",
   "execution_count": 3,
   "id": "36f492c3",
   "metadata": {},
   "outputs": [
    {
     "data": {
      "text/html": [
       "<pre style=\"white-space:pre;overflow-x:auto;line-height:normal;font-family:Menlo,'DejaVu Sans Mono',consolas,'Courier New',monospace\"><span style=\"color: #7fbfbf; text-decoration-color: #7fbfbf\">[04/08/23 23:22:57] </span><span style=\"color: #000080; text-decoration-color: #000080\">INFO    </span> Loading data from <span style=\"color: #008000; text-decoration-color: #008000\">'final_model_lr'</span>                                 <span style=\"color: #7f7f7f; text-decoration-color: #7f7f7f\">data_catalog.py:343</span>\n",
       "<span style=\"color: #7fbfbf; text-decoration-color: #7fbfbf\">                    </span>         <span style=\"font-weight: bold\">(</span>MlflowMlflowModelSaverDataSet<span style=\"font-weight: bold\">)</span><span style=\"color: #808000; text-decoration-color: #808000\">...</span>                                 <span style=\"color: #7f7f7f; text-decoration-color: #7f7f7f\">                   </span>\n",
       "</pre>\n"
      ],
      "text/plain": [
       "\u001b[2;36m[04/08/23 23:22:57]\u001b[0m\u001b[2;36m \u001b[0m\u001b[34mINFO    \u001b[0m Loading data from \u001b[32m'final_model_lr'\u001b[0m                                 \u001b[2mdata_catalog.py\u001b[0m\u001b[2m:\u001b[0m\u001b[2m343\u001b[0m\n",
       "\u001b[2;36m                    \u001b[0m         \u001b[1m(\u001b[0mMlflowMlflowModelSaverDataSet\u001b[1m)\u001b[0m\u001b[33m...\u001b[0m                                 \u001b[2m                   \u001b[0m\n"
      ]
     },
     "metadata": {},
     "output_type": "display_data"
    }
   ],
   "source": [
    "model = catalog.load('final_model_lr')"
   ]
  },
  {
   "cell_type": "code",
   "execution_count": 4,
   "id": "657a2f6c",
   "metadata": {},
   "outputs": [],
   "source": [
    "explainer = shap.Explainer(model.predict)"
   ]
  },
  {
   "cell_type": "code",
   "execution_count": 19,
   "id": "582cf629",
   "metadata": {},
   "outputs": [
    {
     "data": {
      "text/html": [
       "<pre style=\"white-space:pre;overflow-x:auto;line-height:normal;font-family:Menlo,'DejaVu Sans Mono',consolas,'Courier New',monospace\"><span style=\"color: #7fbfbf; text-decoration-color: #7fbfbf\">[04/09/23 02:17:00] </span><span style=\"color: #000080; text-decoration-color: #000080\">INFO    </span> Loading data from <span style=\"color: #008000; text-decoration-color: #008000\">'data_test'</span> <span style=\"font-weight: bold\">(</span>ParquetDataSet<span style=\"font-weight: bold\">)</span><span style=\"color: #808000; text-decoration-color: #808000\">...</span>                  <span style=\"color: #7f7f7f; text-decoration-color: #7f7f7f\">data_catalog.py:343</span>\n",
       "</pre>\n"
      ],
      "text/plain": [
       "\u001b[2;36m[04/09/23 02:17:00]\u001b[0m\u001b[2;36m \u001b[0m\u001b[34mINFO    \u001b[0m Loading data from \u001b[32m'data_test'\u001b[0m \u001b[1m(\u001b[0mParquetDataSet\u001b[1m)\u001b[0m\u001b[33m...\u001b[0m                  \u001b[2mdata_catalog.py\u001b[0m\u001b[2m:\u001b[0m\u001b[2m343\u001b[0m\n"
      ]
     },
     "metadata": {},
     "output_type": "display_data"
    },
    {
     "data": {
      "text/html": [
       "<div>\n",
       "<style scoped>\n",
       "    .dataframe tbody tr th:only-of-type {\n",
       "        vertical-align: middle;\n",
       "    }\n",
       "\n",
       "    .dataframe tbody tr th {\n",
       "        vertical-align: top;\n",
       "    }\n",
       "\n",
       "    .dataframe thead th {\n",
       "        text-align: right;\n",
       "    }\n",
       "</style>\n",
       "<table border=\"1\" class=\"dataframe\">\n",
       "  <thead>\n",
       "    <tr style=\"text-align: right;\">\n",
       "      <th></th>\n",
       "      <th>lat</th>\n",
       "      <th>lon</th>\n",
       "      <th>minutes_remaining</th>\n",
       "      <th>period</th>\n",
       "      <th>playoffs</th>\n",
       "      <th>shot_distance</th>\n",
       "      <th>shot_made_flag</th>\n",
       "    </tr>\n",
       "  </thead>\n",
       "  <tbody>\n",
       "    <tr>\n",
       "      <th>6631</th>\n",
       "      <td>34.0363</td>\n",
       "      <td>-118.3028</td>\n",
       "      <td>8</td>\n",
       "      <td>2</td>\n",
       "      <td>0</td>\n",
       "      <td>3</td>\n",
       "      <td>0.0</td>\n",
       "    </tr>\n",
       "    <tr>\n",
       "      <th>10543</th>\n",
       "      <td>34.0243</td>\n",
       "      <td>-118.2878</td>\n",
       "      <td>6</td>\n",
       "      <td>4</td>\n",
       "      <td>0</td>\n",
       "      <td>2</td>\n",
       "      <td>1.0</td>\n",
       "    </tr>\n",
       "    <tr>\n",
       "      <th>12944</th>\n",
       "      <td>34.0443</td>\n",
       "      <td>-118.2698</td>\n",
       "      <td>7</td>\n",
       "      <td>2</td>\n",
       "      <td>0</td>\n",
       "      <td>0</td>\n",
       "      <td>0.0</td>\n",
       "    </tr>\n",
       "    <tr>\n",
       "      <th>18074</th>\n",
       "      <td>34.0073</td>\n",
       "      <td>-118.1698</td>\n",
       "      <td>5</td>\n",
       "      <td>1</td>\n",
       "      <td>0</td>\n",
       "      <td>10</td>\n",
       "      <td>0.0</td>\n",
       "    </tr>\n",
       "    <tr>\n",
       "      <th>5033</th>\n",
       "      <td>33.9033</td>\n",
       "      <td>-118.1298</td>\n",
       "      <td>4</td>\n",
       "      <td>1</td>\n",
       "      <td>0</td>\n",
       "      <td>19</td>\n",
       "      <td>1.0</td>\n",
       "    </tr>\n",
       "    <tr>\n",
       "      <th>...</th>\n",
       "      <td>...</td>\n",
       "      <td>...</td>\n",
       "      <td>...</td>\n",
       "      <td>...</td>\n",
       "      <td>...</td>\n",
       "      <td>...</td>\n",
       "      <td>...</td>\n",
       "    </tr>\n",
       "    <tr>\n",
       "      <th>3952</th>\n",
       "      <td>34.0443</td>\n",
       "      <td>-118.2698</td>\n",
       "      <td>9</td>\n",
       "      <td>2</td>\n",
       "      <td>0</td>\n",
       "      <td>0</td>\n",
       "      <td>1.0</td>\n",
       "    </tr>\n",
       "    <tr>\n",
       "      <th>100</th>\n",
       "      <td>33.8943</td>\n",
       "      <td>-118.2458</td>\n",
       "      <td>9</td>\n",
       "      <td>3</td>\n",
       "      <td>0</td>\n",
       "      <td>15</td>\n",
       "      <td>0.0</td>\n",
       "    </tr>\n",
       "    <tr>\n",
       "      <th>30058</th>\n",
       "      <td>34.0443</td>\n",
       "      <td>-118.2698</td>\n",
       "      <td>7</td>\n",
       "      <td>4</td>\n",
       "      <td>1</td>\n",
       "      <td>0</td>\n",
       "      <td>1.0</td>\n",
       "    </tr>\n",
       "    <tr>\n",
       "      <th>24039</th>\n",
       "      <td>33.9553</td>\n",
       "      <td>-118.2688</td>\n",
       "      <td>11</td>\n",
       "      <td>2</td>\n",
       "      <td>0</td>\n",
       "      <td>8</td>\n",
       "      <td>0.0</td>\n",
       "    </tr>\n",
       "    <tr>\n",
       "      <th>725</th>\n",
       "      <td>34.0443</td>\n",
       "      <td>-118.2698</td>\n",
       "      <td>3</td>\n",
       "      <td>2</td>\n",
       "      <td>0</td>\n",
       "      <td>0</td>\n",
       "      <td>1.0</td>\n",
       "    </tr>\n",
       "  </tbody>\n",
       "</table>\n",
       "<p>4057 rows × 7 columns</p>\n",
       "</div>"
      ],
      "text/plain": [
       "           lat       lon  minutes_remaining  period  playoffs  shot_distance  \\\n",
       "6631   34.0363 -118.3028                  8       2         0              3   \n",
       "10543  34.0243 -118.2878                  6       4         0              2   \n",
       "12944  34.0443 -118.2698                  7       2         0              0   \n",
       "18074  34.0073 -118.1698                  5       1         0             10   \n",
       "5033   33.9033 -118.1298                  4       1         0             19   \n",
       "...        ...       ...                ...     ...       ...            ...   \n",
       "3952   34.0443 -118.2698                  9       2         0              0   \n",
       "100    33.8943 -118.2458                  9       3         0             15   \n",
       "30058  34.0443 -118.2698                  7       4         1              0   \n",
       "24039  33.9553 -118.2688                 11       2         0              8   \n",
       "725    34.0443 -118.2698                  3       2         0              0   \n",
       "\n",
       "       shot_made_flag  \n",
       "6631              0.0  \n",
       "10543             1.0  \n",
       "12944             0.0  \n",
       "18074             0.0  \n",
       "5033              1.0  \n",
       "...               ...  \n",
       "3952              1.0  \n",
       "100               0.0  \n",
       "30058             1.0  \n",
       "24039             0.0  \n",
       "725               1.0  \n",
       "\n",
       "[4057 rows x 7 columns]"
      ]
     },
     "execution_count": 19,
     "metadata": {},
     "output_type": "execute_result"
    }
   ],
   "source": [
    "data_test = catalog.load('data_test')\n",
    "data_test"
   ]
  },
  {
   "cell_type": "code",
   "execution_count": 24,
   "id": "2f7969e6",
   "metadata": {},
   "outputs": [
    {
     "data": {
      "text/html": [
       "<div>\n",
       "<style scoped>\n",
       "    .dataframe tbody tr th:only-of-type {\n",
       "        vertical-align: middle;\n",
       "    }\n",
       "\n",
       "    .dataframe tbody tr th {\n",
       "        vertical-align: top;\n",
       "    }\n",
       "\n",
       "    .dataframe thead th {\n",
       "        text-align: right;\n",
       "    }\n",
       "</style>\n",
       "<table border=\"1\" class=\"dataframe\">\n",
       "  <thead>\n",
       "    <tr style=\"text-align: right;\">\n",
       "      <th></th>\n",
       "      <th>shot_made_flag</th>\n",
       "    </tr>\n",
       "  </thead>\n",
       "  <tbody>\n",
       "    <tr>\n",
       "      <th>6631</th>\n",
       "      <td>0.0</td>\n",
       "    </tr>\n",
       "    <tr>\n",
       "      <th>10543</th>\n",
       "      <td>1.0</td>\n",
       "    </tr>\n",
       "    <tr>\n",
       "      <th>12944</th>\n",
       "      <td>0.0</td>\n",
       "    </tr>\n",
       "    <tr>\n",
       "      <th>18074</th>\n",
       "      <td>0.0</td>\n",
       "    </tr>\n",
       "    <tr>\n",
       "      <th>5033</th>\n",
       "      <td>1.0</td>\n",
       "    </tr>\n",
       "    <tr>\n",
       "      <th>...</th>\n",
       "      <td>...</td>\n",
       "    </tr>\n",
       "    <tr>\n",
       "      <th>3952</th>\n",
       "      <td>1.0</td>\n",
       "    </tr>\n",
       "    <tr>\n",
       "      <th>100</th>\n",
       "      <td>0.0</td>\n",
       "    </tr>\n",
       "    <tr>\n",
       "      <th>30058</th>\n",
       "      <td>1.0</td>\n",
       "    </tr>\n",
       "    <tr>\n",
       "      <th>24039</th>\n",
       "      <td>0.0</td>\n",
       "    </tr>\n",
       "    <tr>\n",
       "      <th>725</th>\n",
       "      <td>1.0</td>\n",
       "    </tr>\n",
       "  </tbody>\n",
       "</table>\n",
       "<p>4057 rows × 1 columns</p>\n",
       "</div>"
      ],
      "text/plain": [
       "       shot_made_flag\n",
       "6631              0.0\n",
       "10543             1.0\n",
       "12944             0.0\n",
       "18074             0.0\n",
       "5033              1.0\n",
       "...               ...\n",
       "3952              1.0\n",
       "100               0.0\n",
       "30058             1.0\n",
       "24039             0.0\n",
       "725               1.0\n",
       "\n",
       "[4057 rows x 1 columns]"
      ]
     },
     "execution_count": 24,
     "metadata": {},
     "output_type": "execute_result"
    }
   ],
   "source": [
    "data_test[['shot_made_flag']]"
   ]
  },
  {
   "cell_type": "code",
   "execution_count": 16,
   "id": "f3e44a6a",
   "metadata": {},
   "outputs": [
    {
     "data": {
      "text/html": [
       "<pre style=\"white-space:pre;overflow-x:auto;line-height:normal;font-family:Menlo,'DejaVu Sans Mono',consolas,'Courier New',monospace\"><span style=\"color: #7fbfbf; text-decoration-color: #7fbfbf\">[04/09/23 02:15:48] </span><span style=\"color: #000080; text-decoration-color: #000080\">INFO    </span> Loading data from <span style=\"color: #008000; text-decoration-color: #008000\">'final_model_lr'</span> <span style=\"font-weight: bold\">(</span>PickleDataSet<span style=\"font-weight: bold\">)</span><span style=\"color: #808000; text-decoration-color: #808000\">...</span>              <span style=\"color: #7f7f7f; text-decoration-color: #7f7f7f\">data_catalog.py:343</span>\n",
       "</pre>\n"
      ],
      "text/plain": [
       "\u001b[2;36m[04/09/23 02:15:48]\u001b[0m\u001b[2;36m \u001b[0m\u001b[34mINFO    \u001b[0m Loading data from \u001b[32m'final_model_lr'\u001b[0m \u001b[1m(\u001b[0mPickleDataSet\u001b[1m)\u001b[0m\u001b[33m...\u001b[0m              \u001b[2mdata_catalog.py\u001b[0m\u001b[2m:\u001b[0m\u001b[2m343\u001b[0m\n"
      ]
     },
     "metadata": {},
     "output_type": "display_data"
    }
   ],
   "source": [
    "model = catalog.load('final_model_lr')"
   ]
  },
  {
   "cell_type": "code",
   "execution_count": 17,
   "id": "a0bab110",
   "metadata": {},
   "outputs": [
    {
     "data": {
      "text/html": [
       "<style>#sk-container-id-3 {color: black;background-color: white;}#sk-container-id-3 pre{padding: 0;}#sk-container-id-3 div.sk-toggleable {background-color: white;}#sk-container-id-3 label.sk-toggleable__label {cursor: pointer;display: block;width: 100%;margin-bottom: 0;padding: 0.3em;box-sizing: border-box;text-align: center;}#sk-container-id-3 label.sk-toggleable__label-arrow:before {content: \"▸\";float: left;margin-right: 0.25em;color: #696969;}#sk-container-id-3 label.sk-toggleable__label-arrow:hover:before {color: black;}#sk-container-id-3 div.sk-estimator:hover label.sk-toggleable__label-arrow:before {color: black;}#sk-container-id-3 div.sk-toggleable__content {max-height: 0;max-width: 0;overflow: hidden;text-align: left;background-color: #f0f8ff;}#sk-container-id-3 div.sk-toggleable__content pre {margin: 0.2em;color: black;border-radius: 0.25em;background-color: #f0f8ff;}#sk-container-id-3 input.sk-toggleable__control:checked~div.sk-toggleable__content {max-height: 200px;max-width: 100%;overflow: auto;}#sk-container-id-3 input.sk-toggleable__control:checked~label.sk-toggleable__label-arrow:before {content: \"▾\";}#sk-container-id-3 div.sk-estimator input.sk-toggleable__control:checked~label.sk-toggleable__label {background-color: #d4ebff;}#sk-container-id-3 div.sk-label input.sk-toggleable__control:checked~label.sk-toggleable__label {background-color: #d4ebff;}#sk-container-id-3 input.sk-hidden--visually {border: 0;clip: rect(1px 1px 1px 1px);clip: rect(1px, 1px, 1px, 1px);height: 1px;margin: -1px;overflow: hidden;padding: 0;position: absolute;width: 1px;}#sk-container-id-3 div.sk-estimator {font-family: monospace;background-color: #f0f8ff;border: 1px dotted black;border-radius: 0.25em;box-sizing: border-box;margin-bottom: 0.5em;}#sk-container-id-3 div.sk-estimator:hover {background-color: #d4ebff;}#sk-container-id-3 div.sk-parallel-item::after {content: \"\";width: 100%;border-bottom: 1px solid gray;flex-grow: 1;}#sk-container-id-3 div.sk-label:hover label.sk-toggleable__label {background-color: #d4ebff;}#sk-container-id-3 div.sk-serial::before {content: \"\";position: absolute;border-left: 1px solid gray;box-sizing: border-box;top: 0;bottom: 0;left: 50%;z-index: 0;}#sk-container-id-3 div.sk-serial {display: flex;flex-direction: column;align-items: center;background-color: white;padding-right: 0.2em;padding-left: 0.2em;position: relative;}#sk-container-id-3 div.sk-item {position: relative;z-index: 1;}#sk-container-id-3 div.sk-parallel {display: flex;align-items: stretch;justify-content: center;background-color: white;position: relative;}#sk-container-id-3 div.sk-item::before, #sk-container-id-3 div.sk-parallel-item::before {content: \"\";position: absolute;border-left: 1px solid gray;box-sizing: border-box;top: 0;bottom: 0;left: 50%;z-index: -1;}#sk-container-id-3 div.sk-parallel-item {display: flex;flex-direction: column;z-index: 1;position: relative;background-color: white;}#sk-container-id-3 div.sk-parallel-item:first-child::after {align-self: flex-end;width: 50%;}#sk-container-id-3 div.sk-parallel-item:last-child::after {align-self: flex-start;width: 50%;}#sk-container-id-3 div.sk-parallel-item:only-child::after {width: 0;}#sk-container-id-3 div.sk-dashed-wrapped {border: 1px dashed gray;margin: 0 0.4em 0.5em 0.4em;box-sizing: border-box;padding-bottom: 0.4em;background-color: white;}#sk-container-id-3 div.sk-label label {font-family: monospace;font-weight: bold;display: inline-block;line-height: 1.2em;}#sk-container-id-3 div.sk-label-container {text-align: center;}#sk-container-id-3 div.sk-container {/* jupyter's `normalize.less` sets `[hidden] { display: none; }` but bootstrap.min.css set `[hidden] { display: none !important; }` so we also need the `!important` here to be able to override the default hidden behavior on the sphinx rendered scikit-learn.org. See: https://github.com/scikit-learn/scikit-learn/issues/21755 */display: inline-block !important;position: relative;}#sk-container-id-3 div.sk-text-repr-fallback {display: none;}</style><div id=\"sk-container-id-3\" class=\"sk-top-container\"><div class=\"sk-text-repr-fallback\"><pre>LogisticRegression(max_iter=1000, random_state=8087)</pre><b>In a Jupyter environment, please rerun this cell to show the HTML representation or trust the notebook. <br />On GitHub, the HTML representation is unable to render, please try loading this page with nbviewer.org.</b></div><div class=\"sk-container\" hidden><div class=\"sk-item\"><div class=\"sk-estimator sk-toggleable\"><input class=\"sk-toggleable__control sk-hidden--visually\" id=\"sk-estimator-id-3\" type=\"checkbox\" checked><label for=\"sk-estimator-id-3\" class=\"sk-toggleable__label sk-toggleable__label-arrow\">LogisticRegression</label><div class=\"sk-toggleable__content\"><pre>LogisticRegression(max_iter=1000, random_state=8087)</pre></div></div></div></div></div>"
      ],
      "text/plain": [
       "LogisticRegression(max_iter=1000, random_state=8087)"
      ]
     },
     "execution_count": 17,
     "metadata": {},
     "output_type": "execute_result"
    }
   ],
   "source": [
    "model"
   ]
  },
  {
   "cell_type": "code",
   "execution_count": 30,
   "id": "2f638627",
   "metadata": {},
   "outputs": [],
   "source": [
    "X = data_test.drop(columns=['shot_made_flag']).copy()\n",
    "y_pred = model.predict(X)"
   ]
  },
  {
   "cell_type": "code",
   "execution_count": 31,
   "id": "16575d34",
   "metadata": {},
   "outputs": [],
   "source": [
    "y_true = data_test['shot_made_flag']"
   ]
  },
  {
   "cell_type": "code",
   "execution_count": null,
   "id": "9994bea6",
   "metadata": {},
   "outputs": [],
   "source": [
    "y_true"
   ]
  },
  {
   "cell_type": "code",
   "execution_count": 33,
   "id": "22839a01",
   "metadata": {},
   "outputs": [
    {
     "data": {
      "text/plain": [
       "0.5312843029637759"
      ]
     },
     "execution_count": 33,
     "metadata": {},
     "output_type": "execute_result"
    }
   ],
   "source": [
    "f1 = f1_score(y_true, y_pred)\n",
    "f1"
   ]
  }
 ],
 "metadata": {
  "kernelspec": {
   "display_name": "Kedro (trabalhoengml)",
   "language": "python",
   "name": "kedro_trabalhoengml"
  },
  "language_info": {
   "codemirror_mode": {
    "name": "ipython",
    "version": 3
   },
   "file_extension": ".py",
   "mimetype": "text/x-python",
   "name": "python",
   "nbconvert_exporter": "python",
   "pygments_lexer": "ipython3",
   "version": "3.10.4"
  }
 },
 "nbformat": 4,
 "nbformat_minor": 5
}
